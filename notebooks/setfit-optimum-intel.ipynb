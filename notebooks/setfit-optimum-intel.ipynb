{
 "cells": [
  {
   "cell_type": "markdown",
   "id": "76571396-8f54-40ed-9e81-6c7531e6eaee",
   "metadata": {
    "id": "76571396-8f54-40ed-9e81-6c7531e6eaee"
   },
   "source": [
    "# Accelerate SetFit Models with 🤗 Optimum Intel"
   ]
  },
  {
   "cell_type": "markdown",
   "id": "4733f283-4736-4d9d-854e-5582280b074d",
   "metadata": {},
   "source": [
    "In this notebook, we'll show how you can use 🤗 [Optimum Intel](https://github.com/huggingface/optimum-intel) to speed up your SetFit models on Intel CPUs.\\\n",
    "Optimum Intel is the interface between the 🤗 Transformers and Diffusers libraries and the different tools and libraries provided by Intel to accelerate end-to-end pipelines on Intel architectures.\n",
    "\n",
    "In our experiments, we will be using a fine-tuned SetFit model based on `bge-small-en-v1.5` sentence transformer model and observe our performance increase."
   ]
  },
  {
   "cell_type": "markdown",
   "id": "2d874cea-d8d1-4fdf-b374-7772811fe7b7",
   "metadata": {},
   "source": [
    "### Prerequisites"
   ]
  },
  {
   "cell_type": "markdown",
   "id": "4bbde933-a2f1-4159-9b93-cfcf73f28c79",
   "metadata": {},
   "source": [
    "* Linux OS\n",
    "* Python 3.9+\n",
    "* An Intel Xeon Processor which supports [bfloat16](https://www.intel.com/content/www/us/en/developer/articles/technical/pytorch-on-xeon-processors-with-bfloat16.html)\n",
    "\n",
    "Since Google Colab doesn't meet the hardware requirement, it's incompatible with this notebook and will not see speedups from our optimizations.\n",
    "\n",
    "Please run the following to ensure you meet the requirements."
   ]
  },
  {
   "cell_type": "code",
   "execution_count": 1,
   "id": "d7d9247a-b053-46af-89f6-e57067ecb8cd",
   "metadata": {},
   "outputs": [
    {
     "name": "stdout",
     "output_type": "stream",
     "text": [
      "Notebook requirements  met.\n"
     ]
    }
   ],
   "source": [
    "import sys\n",
    "import os\n",
    "from time import sleep\n",
    "\n",
    "os_info = !uname -o\n",
    "os_type = os_info[0]\n",
    "is_os_ok = \"linux\" in os_type.lower()\n",
    "is_python_ver_ok = sys.version_info.major == 3 and sys.version_info.minor >=9\n",
    "cpu_info = !lscpu\n",
    "is_cpu_ok = \"intel\" in cpu_info.grep(\"vendor\")[0].lower() and \"bf16\" in cpu_info.grep(\"flags\")[0]\n",
    "if not is_os_ok:\n",
    "    print(f\"This notebook requires a Linux type operating system, but you have {os_type}\")\n",
    "if not is_python_ver_ok:\n",
    "    print(f\"This notebook requires Python 3.9+ but your version is {sys.version.split()[0]}.\")\n",
    "if not is_cpu_ok:\n",
    "    print(f\"Your CPU does not support bfloat16.\")\n",
    "print(f\"Notebook requirements {'' if is_os_ok and is_python_ver_ok and is_cpu_ok else 'not'} met.\")"
   ]
  },
  {
   "cell_type": "markdown",
   "id": "8855b561-fea5-4137-ab78-e3c32a200748",
   "metadata": {},
   "source": [
    "### Before Running this Notebook\n",
    "1. Please create a `conda` environment and install `jupyterlab`:\n",
    "```bash\n",
    "conda create -n setfit python=3.10 -y && conda activate setfit\n",
    "python -m pip install -U jupyterlab\n",
    "```\n",
    "\n",
    "2. Install **TCMalloc**: Google's fast, multi-threaded `malloc()` implementation:\n",
    "```bash\n",
    "conda install gperftools -c conda-forge -y\n",
    "echo export LD_PRELOAD=${CONDA_PREFIX}/lib/libtcmalloc.so:$LD_PRELOAD >> ~/.bashrc\n",
    "# **** Restart the shell or `source ~/.bashrc` ****\n",
    "```\n",
    "\n",
    "3. Launch the notebook using `numactl` (explained below), for example: \n",
    "```bash\n",
    "OMP_NUM_THREADS=56 numactl -C 0-55 -m 0 jupyter lab\n",
    "```"
   ]
  },
  {
   "cell_type": "markdown",
   "id": "67c08bea-1c62-450b-b532-068bbd6bc92d",
   "metadata": {},
   "source": [
    "### Reproducibility\n",
    "This notebook was tested on `Ubuntu 22.04.3 LTS` and `Python 3.10.13`.\n",
    "\n",
    "To reproduce the maximum speeds reported in this notebook, please launch it using `numactl`.\\\n",
    "`numactl` enables gaining better control on which resources you're running. It's best to run on a single socket (`-m 0`):\\\n",
    "`OMP_NUM_THREADS=<NUM_THREADS> numactl -C <CORES_RANGE> -m 0 jupyter lab`"
   ]
  },
  {
   "cell_type": "markdown",
   "id": "79bc2a85",
   "metadata": {},
   "source": [
    "### Setup\n",
    "Install the required packages to evaluate and visualize results for SetFit models:"
   ]
  },
  {
   "cell_type": "code",
   "execution_count": 2,
   "id": "839bd550",
   "metadata": {},
   "outputs": [],
   "source": [
    "!python -m pip install -U setfit evaluate matplotlib -qqq"
   ]
  },
  {
   "cell_type": "markdown",
   "id": "1f72d255-ab98-4cc3-878b-6a60e08ccf6d",
   "metadata": {},
   "source": [
    "### Install Optimum Intel"
   ]
  },
  {
   "cell_type": "markdown",
   "id": "b1cefb9e-67b8-40d2-9448-5cb54527555f",
   "metadata": {},
   "source": [
    "Install Optimum Intel along with INC and IPEX backends which we'll use in our optimization later on."
   ]
  },
  {
   "cell_type": "code",
   "execution_count": 3,
   "id": "e9466ee2-5791-45b4-b69d-33bb5a82f048",
   "metadata": {},
   "outputs": [],
   "source": [
    "!python -m pip install --upgrade-strategy eager optimum[neural-compressor] -qqq\n",
    "!python -m pip install intel-extension-for-pytorch -qqq"
   ]
  },
  {
   "cell_type": "markdown",
   "id": "2493cd04-812f-461b-bb26-9225d76c2774",
   "metadata": {},
   "source": [
    "### Set Up Benchmark"
   ]
  },
  {
   "cell_type": "markdown",
   "id": "e6a090c0-a065-4b3f-b803-5e518c73299f",
   "metadata": {},
   "source": [
    "First, define the infrastructure for conducting latency, throughput and accuracy benchmarks."
   ]
  },
  {
   "cell_type": "code",
   "execution_count": 4,
   "id": "55756fec-fc22-4590-84d7-2f3df37b9256",
   "metadata": {
    "id": "55756fec-fc22-4590-84d7-2f3df37b9256"
   },
   "outputs": [],
   "source": [
    "from pathlib import Path\n",
    "from time import perf_counter\n",
    "import warnings\n",
    "import subprocess\n",
    "import sys\n",
    "from collections import defaultdict\n",
    "\n",
    "import evaluate\n",
    "import numpy as np\n",
    "import torch\n",
    "import matplotlib.pyplot as plt\n",
    "from tqdm.auto import trange\n",
    "from sentence_transformers import SentenceTransformer\n",
    "from setfit.exporters.utils import mean_pooling\n",
    "\n",
    "warnings.filterwarnings(\"ignore\")\n",
    "os.environ[\"TOKENIZERS_PARALLELISM\"] = \"false\"\n",
    "\n",
    "def get_dir_size(path):\n",
    "    ps = subprocess.Popen(('du','-hk', path), stdout=subprocess.PIPE)\n",
    "    output = subprocess.check_output((\"awk\", \"{print $1/1024,$2}\"), stdin=ps.stdout)\n",
    "    ps.wait()\n",
    "    return float(output.split()[0].decode('utf-8'))\n",
    "\n",
    "class PerformanceBenchmark:\n",
    "    def __init__(self, model, dataset, optim_type, max_sequence_length, metric=\"accuracy\",\n",
    "                 model_path=None, enable_autocast=False, batch_sizes=None):\n",
    "        self.model = model\n",
    "        self.dataset = dataset\n",
    "        self.optim_type = optim_type\n",
    "        self.metric = evaluate.load(metric)\n",
    "        self.model_path = model_path\n",
    "        self.enable_autocast = enable_autocast\n",
    "        self.tokenizer = self.model.model_body.tokenizer\n",
    "        self.vocab_size = self.tokenizer.vocab_size\n",
    "        self.max_length = max_sequence_length\n",
    "        self.device = self.model.model_body.device\n",
    "        self.batch_sizes = [2 ** i for i in range(12)] if batch_sizes is None else batch_sizes\n",
    "\n",
    "    def to_device(self, batch):\n",
    "        for key in batch:\n",
    "            batch[key] = batch[key].to(self.device)\n",
    "        return batch\n",
    "        \n",
    "    def timed_predict(self, inputs=None, encoded_inputs=None):\n",
    "        if encoded_inputs is None:\n",
    "            encoded_inputs = self.tokenizer(\n",
    "            inputs, padding=\"max_length\", max_length=self.max_length, truncation=True, return_tensors=\"pt\"\n",
    "        )\n",
    "        start = perf_counter()\n",
    "        encoded_inputs = self.to_device(encoded_inputs)\n",
    "        with torch.no_grad(), torch.cpu.amp.autocast(dtype=torch.bfloat16, enabled=self.enable_autocast):\n",
    "            if isinstance(self.model.model_body, SentenceTransformer):\n",
    "                embeddings = self.model.model_body(encoded_inputs)[\"sentence_embedding\"]\n",
    "            else:\n",
    "                outputs = self.model.model_body(**encoded_inputs)\n",
    "                embeddings = mean_pooling(outputs[\"last_hidden_state\"], encoded_inputs[\"attention_mask\"])\n",
    "            preds = self.model.model_head.predict(embeddings)\n",
    "            latency = perf_counter() - start\n",
    "        return preds, latency\n",
    "\n",
    "    def compute_accuracy(self):\n",
    "        preds, _ = self.timed_predict(self.dataset[\"text\"])\n",
    "        accuracy = self.metric.compute(predictions=preds, references=self.dataset[\"label\"])\n",
    "        print(f\"Accuracy on test set - {accuracy['accuracy']:.3f}\")\n",
    "        return accuracy\n",
    "        \n",
    "    def compute_size(self):\n",
    "        if self.model_path is None:\n",
    "            state_dict = self.model.model_body.state_dict()\n",
    "            tmp_path = Path(\"model.pt\")\n",
    "            torch.save(state_dict, tmp_path)\n",
    "            size_mb = get_dir_size(tmp_path)\n",
    "            # Delete temporary file\n",
    "            tmp_path.unlink()\n",
    "        else:\n",
    "            size_mb = get_dir_size(self.model_path)\n",
    "        print(f\"Model size (MB) - {size_mb:.2f}\")\n",
    "        return {\"size_mb\": size_mb}\n",
    "\n",
    "    def generate_random_sequences(self, batch_size):\n",
    "        input_ids = torch.randint(0, self.vocab_size - 1, (batch_size, self.max_length))\n",
    "        token_type_ids = torch.zeros((batch_size, self.max_length), dtype=torch.int64)\n",
    "        attention_mask = torch.ones((batch_size, self.max_length), dtype=torch.int64)\n",
    "        return {\n",
    "            \"input_ids\": input_ids,\n",
    "            \"token_type_ids\": token_type_ids,\n",
    "            \"attention_mask\": attention_mask,\n",
    "        }\n",
    "\n",
    "    def compute_latency_and_throughput(self, num_iter=15, num_warmup_iter=5):\n",
    "        res = defaultdict(list)\n",
    "        print(\"=\" * 100)\n",
    "        for batch_size in self.batch_sizes:\n",
    "            try:\n",
    "                for _ in trange(num_warmup_iter, desc=f\"Warmup ({batch_size=})\", file=sys.stdout):\n",
    "                    encoded_inputs = self.generate_random_sequences(batch_size=batch_size)\n",
    "                    _ = self.timed_predict(encoded_inputs=encoded_inputs)\n",
    "\n",
    "                batch_latencies = []\n",
    "                for _ in trange(num_iter, desc=f\"Timed Run ({batch_size=})\", file=sys.stdout):\n",
    "                    encoded_inputs = self.generate_random_sequences(batch_size=batch_size)\n",
    "                    _, latency = self.timed_predict(encoded_inputs=encoded_inputs)\n",
    "                    batch_latencies.append(latency)\n",
    "        \n",
    "                # Compute run statistics\n",
    "                batch_latencies = np.array(batch_latencies)\n",
    "                if batch_size == 1:\n",
    "                    latency = 1000 * (batch_latencies / batch_size)\n",
    "                    res.update({\"time_avg_ms\": np.mean(latency), \"time_std_ms\": np.std(latency)})\n",
    "                    print(f\"Avg. latency (ms), {batch_size=} - {res['time_avg_ms']:.2f} +/- {res['time_std_ms']:.2f}\")\n",
    "\n",
    "                throughputs = batch_size / batch_latencies\n",
    "                res[\"throughputs_avg\"].append(np.mean(throughputs))\n",
    "                res[\"throughputs_std\"].append(np.std(throughputs))\n",
    "                print(f\"Avg. throughput (samples/sec), {batch_size=} - {res['throughputs_avg'][-1]:.1f} +/- {res['throughputs_std'][-1]:.1f}\")\n",
    "                res[\"batch_sizes\"].append(batch_size)\n",
    "            except Exception as e:\n",
    "                print(f\"Skipping throughput computation at {batch_size=} since it failed with the following error: \\n\\n{e}\\n\")\n",
    "                print(e.stack())\n",
    "        return res\n",
    "        \n",
    "    def run_benchmark(self):\n",
    "        all_metrics = {}\n",
    "        for run_metric in  self.compute_latency_and_throughput, self.compute_size, self.compute_accuracy:\n",
    "            all_metrics |= run_metric()\n",
    "        return {self.optim_type: all_metrics}"
   ]
  },
  {
   "cell_type": "markdown",
   "id": "2878768f-9ec4-4675-ab20-0f8bca7bbe37",
   "metadata": {},
   "source": [
    "Let's add a function to plot our results."
   ]
  },
  {
   "cell_type": "code",
   "execution_count": 5,
   "id": "99110d37-1aa1-4373-8517-f1f8acbbc9a4",
   "metadata": {},
   "outputs": [],
   "source": [
    "import pandas as pd\n",
    "\n",
    "def plot_metrics(perf_metrics):\n",
    "    df = pd.DataFrame.from_dict(perf_metrics, orient=\"index\")\n",
    "    plt.figure(figsize=(6, 4), dpi=120)\n",
    "    for idx in df.index:\n",
    "        df_opt = df.loc[idx]\n",
    "        plt.errorbar(\n",
    "            df_opt[\"time_avg_ms\"],\n",
    "            df_opt[\"accuracy\"] * 100,\n",
    "            xerr=df_opt[\"time_std_ms\"],\n",
    "            fmt=\"o\",\n",
    "            alpha=0.5,\n",
    "            ms=df_opt[\"size_mb\"] / 15,\n",
    "            label=idx,\n",
    "            capsize=5,\n",
    "            capthick=1,\n",
    "        )\n",
    "    legend = plt.legend(loc=\"lower right\")\n",
    "    plt.ylim(63, 95)\n",
    "    # Use the slowest model to define the x-axis range\n",
    "    xlim = max([metrics[\"time_avg_ms\"] for metrics in perf_metrics.values()]) * 1.3\n",
    "    plt.xlim(0, xlim)\n",
    "    plt.ylabel(\"Accuracy (%)\")\n",
    "    plt.xlabel(\"Average latency with batch_size=1 (ms)\")\n",
    "    plt.show()"
   ]
  },
  {
   "cell_type": "markdown",
   "id": "b842dea2-76cc-408b-9431-0b282b9abaed",
   "metadata": {},
   "source": [
    "## 1. Benchmark SetFit using PyTorch"
   ]
  },
  {
   "cell_type": "markdown",
   "id": "d159ea96-f604-478c-b6a2-bf4cc5c57a5a",
   "metadata": {},
   "source": [
    "Load the dataset for running evaluations:"
   ]
  },
  {
   "cell_type": "code",
   "execution_count": 6,
   "id": "867a9450-d8f0-4697-b3b4-a5ddf6b04906",
   "metadata": {},
   "outputs": [],
   "source": [
    "from datasets import load_dataset\n",
    "test_dataset = load_dataset(\"SetFit/sst2\")[\"validation\"]"
   ]
  },
  {
   "cell_type": "markdown",
   "id": "b24b47c9-7076-4510-8c1e-5c17445bae34",
   "metadata": {},
   "source": [
    "We'll now run the benchmark with the standard PyTorch backend:"
   ]
  },
  {
   "cell_type": "code",
   "execution_count": 7,
   "id": "u-w99Y2qW4lU",
   "metadata": {
    "colab": {
     "base_uri": "https://localhost:8080/"
    },
    "id": "u-w99Y2qW4lU",
    "outputId": "57f0b8f7-6dad-4e90-c779-658a7de6e960"
   },
   "outputs": [
    {
     "name": "stdout",
     "output_type": "stream",
     "text": [
      "====================================================================================================\n"
     ]
    },
    {
     "data": {
      "application/vnd.jupyter.widget-view+json": {
       "model_id": "7742338e4fd6405b8f8ad501f857dc84",
       "version_major": 2,
       "version_minor": 0
      },
      "text/plain": [
       "Warmup (batch_size=1):   0%|          | 0/5 [00:00<?, ?it/s]"
      ]
     },
     "metadata": {},
     "output_type": "display_data"
    },
    {
     "data": {
      "application/vnd.jupyter.widget-view+json": {
       "model_id": "8a09d270bdee43f3b30db34a890ed72d",
       "version_major": 2,
       "version_minor": 0
      },
      "text/plain": [
       "Timed Run (batch_size=1):   0%|          | 0/15 [00:00<?, ?it/s]"
      ]
     },
     "metadata": {},
     "output_type": "display_data"
    },
    {
     "name": "stdout",
     "output_type": "stream",
     "text": [
      "Avg. latency (ms), batch_size=1 - 19.77 +/- 0.44\n",
      "Avg. throughput (samples/sec), batch_size=1 - 50.6 +/- 1.1\n"
     ]
    },
    {
     "data": {
      "application/vnd.jupyter.widget-view+json": {
       "model_id": "02730d1b78984f26b52df1e384da53d6",
       "version_major": 2,
       "version_minor": 0
      },
      "text/plain": [
       "Warmup (batch_size=2):   0%|          | 0/5 [00:00<?, ?it/s]"
      ]
     },
     "metadata": {},
     "output_type": "display_data"
    },
    {
     "data": {
      "application/vnd.jupyter.widget-view+json": {
       "model_id": "9eadc3a529074a7e8e335ae139ae6a51",
       "version_major": 2,
       "version_minor": 0
      },
      "text/plain": [
       "Timed Run (batch_size=2):   0%|          | 0/15 [00:00<?, ?it/s]"
      ]
     },
     "metadata": {},
     "output_type": "display_data"
    },
    {
     "name": "stdout",
     "output_type": "stream",
     "text": [
      "Avg. throughput (samples/sec), batch_size=2 - 70.9 +/- 1.6\n"
     ]
    },
    {
     "data": {
      "application/vnd.jupyter.widget-view+json": {
       "model_id": "ba94055ce6b941bcbc3378be2258ed07",
       "version_major": 2,
       "version_minor": 0
      },
      "text/plain": [
       "Warmup (batch_size=4):   0%|          | 0/5 [00:00<?, ?it/s]"
      ]
     },
     "metadata": {},
     "output_type": "display_data"
    },
    {
     "data": {
      "application/vnd.jupyter.widget-view+json": {
       "model_id": "c5a16b414b374edfac74af9845157f0b",
       "version_major": 2,
       "version_minor": 0
      },
      "text/plain": [
       "Timed Run (batch_size=4):   0%|          | 0/15 [00:00<?, ?it/s]"
      ]
     },
     "metadata": {},
     "output_type": "display_data"
    },
    {
     "name": "stdout",
     "output_type": "stream",
     "text": [
      "Avg. throughput (samples/sec), batch_size=4 - 94.0 +/- 1.4\n"
     ]
    },
    {
     "data": {
      "application/vnd.jupyter.widget-view+json": {
       "model_id": "6de440a355af4616917ff61c27f6e6ce",
       "version_major": 2,
       "version_minor": 0
      },
      "text/plain": [
       "Warmup (batch_size=8):   0%|          | 0/5 [00:00<?, ?it/s]"
      ]
     },
     "metadata": {},
     "output_type": "display_data"
    },
    {
     "data": {
      "application/vnd.jupyter.widget-view+json": {
       "model_id": "55835c4a1a9d415bba7bee4d20071d2f",
       "version_major": 2,
       "version_minor": 0
      },
      "text/plain": [
       "Timed Run (batch_size=8):   0%|          | 0/15 [00:00<?, ?it/s]"
      ]
     },
     "metadata": {},
     "output_type": "display_data"
    },
    {
     "name": "stdout",
     "output_type": "stream",
     "text": [
      "Avg. throughput (samples/sec), batch_size=8 - 116.7 +/- 1.8\n"
     ]
    },
    {
     "data": {
      "application/vnd.jupyter.widget-view+json": {
       "model_id": "2d1caf88daf44ac9b5e1820c712c840a",
       "version_major": 2,
       "version_minor": 0
      },
      "text/plain": [
       "Warmup (batch_size=16):   0%|          | 0/5 [00:00<?, ?it/s]"
      ]
     },
     "metadata": {},
     "output_type": "display_data"
    },
    {
     "data": {
      "application/vnd.jupyter.widget-view+json": {
       "model_id": "82cffa1543d94bf7b2fea23fe8992c16",
       "version_major": 2,
       "version_minor": 0
      },
      "text/plain": [
       "Timed Run (batch_size=16):   0%|          | 0/15 [00:00<?, ?it/s]"
      ]
     },
     "metadata": {},
     "output_type": "display_data"
    },
    {
     "name": "stdout",
     "output_type": "stream",
     "text": [
      "Avg. throughput (samples/sec), batch_size=16 - 107.3 +/- 1.1\n"
     ]
    },
    {
     "data": {
      "application/vnd.jupyter.widget-view+json": {
       "model_id": "288eb1aeb7154cdaa0ef34570fc5b32a",
       "version_major": 2,
       "version_minor": 0
      },
      "text/plain": [
       "Warmup (batch_size=32):   0%|          | 0/5 [00:00<?, ?it/s]"
      ]
     },
     "metadata": {},
     "output_type": "display_data"
    },
    {
     "data": {
      "application/vnd.jupyter.widget-view+json": {
       "model_id": "a47b7a472466433c8b2f87dae8a2c708",
       "version_major": 2,
       "version_minor": 0
      },
      "text/plain": [
       "Timed Run (batch_size=32):   0%|          | 0/15 [00:00<?, ?it/s]"
      ]
     },
     "metadata": {},
     "output_type": "display_data"
    },
    {
     "name": "stdout",
     "output_type": "stream",
     "text": [
      "Avg. throughput (samples/sec), batch_size=32 - 90.6 +/- 1.4\n"
     ]
    },
    {
     "data": {
      "application/vnd.jupyter.widget-view+json": {
       "model_id": "6d40db38ccc14439968fb975c90044d6",
       "version_major": 2,
       "version_minor": 0
      },
      "text/plain": [
       "Warmup (batch_size=64):   0%|          | 0/5 [00:00<?, ?it/s]"
      ]
     },
     "metadata": {},
     "output_type": "display_data"
    },
    {
     "data": {
      "application/vnd.jupyter.widget-view+json": {
       "model_id": "5139407deb4c4f6498b3f872d15ef99e",
       "version_major": 2,
       "version_minor": 0
      },
      "text/plain": [
       "Timed Run (batch_size=64):   0%|          | 0/15 [00:00<?, ?it/s]"
      ]
     },
     "metadata": {},
     "output_type": "display_data"
    },
    {
     "name": "stdout",
     "output_type": "stream",
     "text": [
      "Avg. throughput (samples/sec), batch_size=64 - 71.6 +/- 8.3\n"
     ]
    },
    {
     "data": {
      "application/vnd.jupyter.widget-view+json": {
       "model_id": "63633593cbab4334a19f2268ecebf1f7",
       "version_major": 2,
       "version_minor": 0
      },
      "text/plain": [
       "Warmup (batch_size=128):   0%|          | 0/5 [00:00<?, ?it/s]"
      ]
     },
     "metadata": {},
     "output_type": "display_data"
    },
    {
     "data": {
      "application/vnd.jupyter.widget-view+json": {
       "model_id": "f296e66bba3548abb0eb5c4d6d34d4df",
       "version_major": 2,
       "version_minor": 0
      },
      "text/plain": [
       "Timed Run (batch_size=128):   0%|          | 0/15 [00:00<?, ?it/s]"
      ]
     },
     "metadata": {},
     "output_type": "display_data"
    },
    {
     "name": "stdout",
     "output_type": "stream",
     "text": [
      "Avg. throughput (samples/sec), batch_size=128 - 67.1 +/- 7.5\n"
     ]
    },
    {
     "data": {
      "application/vnd.jupyter.widget-view+json": {
       "model_id": "23a82c93563e4035ae4ec57256442ae5",
       "version_major": 2,
       "version_minor": 0
      },
      "text/plain": [
       "Warmup (batch_size=256):   0%|          | 0/5 [00:00<?, ?it/s]"
      ]
     },
     "metadata": {},
     "output_type": "display_data"
    },
    {
     "data": {
      "application/vnd.jupyter.widget-view+json": {
       "model_id": "c28807ee9e1d463aa76da3197cfdb922",
       "version_major": 2,
       "version_minor": 0
      },
      "text/plain": [
       "Timed Run (batch_size=256):   0%|          | 0/15 [00:00<?, ?it/s]"
      ]
     },
     "metadata": {},
     "output_type": "display_data"
    },
    {
     "name": "stdout",
     "output_type": "stream",
     "text": [
      "Avg. throughput (samples/sec), batch_size=256 - 71.0 +/- 1.1\n"
     ]
    },
    {
     "data": {
      "application/vnd.jupyter.widget-view+json": {
       "model_id": "bb6f30dc4446414d9765f2336cc5d896",
       "version_major": 2,
       "version_minor": 0
      },
      "text/plain": [
       "Warmup (batch_size=512):   0%|          | 0/5 [00:00<?, ?it/s]"
      ]
     },
     "metadata": {},
     "output_type": "display_data"
    },
    {
     "data": {
      "application/vnd.jupyter.widget-view+json": {
       "model_id": "b196a0a32bb24268b1ce446599614328",
       "version_major": 2,
       "version_minor": 0
      },
      "text/plain": [
       "Timed Run (batch_size=512):   0%|          | 0/15 [00:00<?, ?it/s]"
      ]
     },
     "metadata": {},
     "output_type": "display_data"
    },
    {
     "name": "stdout",
     "output_type": "stream",
     "text": [
      "Avg. throughput (samples/sec), batch_size=512 - 57.6 +/- 1.5\n"
     ]
    },
    {
     "data": {
      "application/vnd.jupyter.widget-view+json": {
       "model_id": "9c7a930e5d6f4492837126996e8d7c67",
       "version_major": 2,
       "version_minor": 0
      },
      "text/plain": [
       "Warmup (batch_size=1024):   0%|          | 0/5 [00:00<?, ?it/s]"
      ]
     },
     "metadata": {},
     "output_type": "display_data"
    },
    {
     "data": {
      "application/vnd.jupyter.widget-view+json": {
       "model_id": "210324f3d17b4cefa17dcc7a77720f81",
       "version_major": 2,
       "version_minor": 0
      },
      "text/plain": [
       "Timed Run (batch_size=1024):   0%|          | 0/15 [00:00<?, ?it/s]"
      ]
     },
     "metadata": {},
     "output_type": "display_data"
    },
    {
     "name": "stdout",
     "output_type": "stream",
     "text": [
      "Avg. throughput (samples/sec), batch_size=1024 - 45.7 +/- 4.4\n"
     ]
    },
    {
     "data": {
      "application/vnd.jupyter.widget-view+json": {
       "model_id": "557c14c7b6fa4e3ab0a4fb50b675393c",
       "version_major": 2,
       "version_minor": 0
      },
      "text/plain": [
       "Warmup (batch_size=2048):   0%|          | 0/5 [00:00<?, ?it/s]"
      ]
     },
     "metadata": {},
     "output_type": "display_data"
    },
    {
     "data": {
      "application/vnd.jupyter.widget-view+json": {
       "model_id": "5491a76ae737460993fad6f67e834543",
       "version_major": 2,
       "version_minor": 0
      },
      "text/plain": [
       "Timed Run (batch_size=2048):   0%|          | 0/15 [00:00<?, ?it/s]"
      ]
     },
     "metadata": {},
     "output_type": "display_data"
    },
    {
     "name": "stdout",
     "output_type": "stream",
     "text": [
      "Avg. throughput (samples/sec), batch_size=2048 - 56.7 +/- 0.3\n",
      "Model size (MB) - 127.32\n",
      "Accuracy on test set - 0.884\n"
     ]
    }
   ],
   "source": [
    "from setfit import SetFitModel\n",
    "\n",
    "model_path = \"dkorat/bge-small-en-v1.5_setfit-sst2-english\"\n",
    "setfit_model = SetFitModel.from_pretrained(model_path)\n",
    "pb = PerformanceBenchmark(\n",
    "    model=setfit_model, \n",
    "    dataset=test_dataset, \n",
    "    optim_type=\"bge-small (PyTorch)\",\n",
    "    max_sequence_length=512,\n",
    ")\n",
    "perf_metrics = pb.run_benchmark()"
   ]
  },
  {
   "cell_type": "markdown",
   "id": "AiPUhOCNWRny",
   "metadata": {
    "id": "AiPUhOCNWRny"
   },
   "source": [
    "## 2. Optimize with Optimum Intel"
   ]
  },
  {
   "cell_type": "markdown",
   "id": "0e60d191-db3b-49a3-a281-34ae9063cb25",
   "metadata": {},
   "source": [
    "In order to optimize our SetFit model, we will apply quantization to the model body, using Intel [Neural Compressor](https://www.intel.com/content/www/us/en/developer/tools/oneapi/neural-compressor.html) (INC), part of Optimum Intel.\n",
    "\n",
    "**Quantization** is a very popular deep learning model optimization technique for improving inference speeds. It minimizes the number of bits required to represent the weights and/or activations in a neural network. This is done by converting a set of real-valued numbers into their lower-bit data representations, such as INT8. Moreover, quantization can enable faster computations in lower precision.\n",
    "\n",
    "Specifically, we'll apply post-training static quantization (PTQ). PTQ can reduce the memory footprint and latency for inference, while still preserving the accuracy of the model, with only a small unlabeled calibration set and without any training."
   ]
  },
  {
   "cell_type": "markdown",
   "id": "6e0557f9-8193-4059-8056-bfc50c00deef",
   "metadata": {},
   "source": [
    "#### Prepare a Calibration Dataset\n",
    "\n",
    "The calibration dataset should be able to represent the data distribution of unseen data. In general, preparing 100 samples is enough for calibration. We'll use the `rotten_tomatoes` dataset in our case, since it’s composed of movie reviews, like our target dataset, sst2. First, we’ll load 100 random samples from this dataset."
   ]
  },
  {
   "cell_type": "code",
   "execution_count": 8,
   "id": "14b2ae65-fc24-4ce2-9125-2100e78ed18b",
   "metadata": {},
   "outputs": [
    {
     "data": {
      "text/plain": [
       "['. . . plays like somebody spliced random moments of a chris rock routine into what is otherwise a cliche-riddled but self-serious spy thriller .',\n",
       " \"michael moore has perfected the art of highly entertaining , self-aggrandizing , politically motivated documentary-making , and he's got as potent a topic as ever here .\"]"
      ]
     },
     "execution_count": 8,
     "metadata": {},
     "output_type": "execute_result"
    }
   ],
   "source": [
    "calibration_set = load_dataset(\"rotten_tomatoes\")[\"train\"].shuffle(seed=42).select(range(100))  \n",
    "calibration_set[\"text\"][:2]"
   ]
  },
  {
   "cell_type": "markdown",
   "id": "f471a9fb-52f0-4b79-9126-73d9de2b280f",
   "metadata": {},
   "source": [
    "To prepare the dataset for quantization, we'll need to tokenize each example. We won’t need the “text” and “label” columns, so let’s remove them."
   ]
  },
  {
   "cell_type": "code",
   "execution_count": 9,
   "id": "06480d69-f706-4eb6-90dd-e9bb0001625b",
   "metadata": {},
   "outputs": [],
   "source": [
    "def tokenize(examples):\n",
    "    return tokenizer(examples[\"text\"], padding=\"max_length\", max_length=512, truncation=True)\n",
    "    \n",
    "tokenizer = setfit_model.model_body.tokenizer\n",
    "calibration_set = calibration_set.map(tokenize, num_proc=10).remove_columns([\"text\", \"label\"])"
   ]
  },
  {
   "cell_type": "markdown",
   "id": "4b90c6ba-8f6e-4899-b404-ecebc0f7a78a",
   "metadata": {},
   "source": [
    "#### Run Quantization\n",
    "Now we define the desired quantization process - in our case - Static Post Training Quantization, and use `optimum.intel` to run the quantization on our calibration dataset:"
   ]
  },
  {
   "cell_type": "code",
   "execution_count": 10,
   "id": "d38c5008-77a0-4985-bb99-7108d57af5d2",
   "metadata": {},
   "outputs": [
    {
     "name": "stderr",
     "output_type": "stream",
     "text": [
      "ONNX export is no supported for model with quantized embeddings\n",
      "2024-02-13 22:56:40 [INFO] Start auto tuning.\n",
      "2024-02-13 22:56:40 [INFO] Execute the tuning process due to detect the evaluation function.\n",
      "2024-02-13 22:56:40 [INFO] Adaptor has 5 recipes.\n",
      "2024-02-13 22:56:40 [INFO] 0 recipes specified by user.\n",
      "2024-02-13 22:56:40 [INFO] 3 recipes require future tuning.\n",
      "2024-02-13 22:56:40 [WARNING] Fail to remove /home/sdp/dkorat/setfit/notebooks/nc_workspace/2024-02-13_22-56-37/ipex_config_tmp.json.\n",
      "2024-02-13 22:56:40 [INFO] *** Initialize auto tuning\n",
      "2024-02-13 22:56:40 [INFO] {\n",
      "2024-02-13 22:56:40 [INFO]     'PostTrainingQuantConfig': {\n",
      "2024-02-13 22:56:40 [INFO]         'AccuracyCriterion': {\n",
      "2024-02-13 22:56:40 [INFO]             'criterion': 'relative',\n",
      "2024-02-13 22:56:40 [INFO]             'higher_is_better': True,\n",
      "2024-02-13 22:56:40 [INFO]             'tolerable_loss': 0.01,\n",
      "2024-02-13 22:56:40 [INFO]             'absolute': None,\n",
      "2024-02-13 22:56:40 [INFO]             'keys': <bound method AccuracyCriterion.keys of <neural_compressor.config.AccuracyCriterion object at 0x7f2782777310>>,\n",
      "2024-02-13 22:56:40 [INFO]             'relative': 0.01\n",
      "2024-02-13 22:56:40 [INFO]         },\n",
      "2024-02-13 22:56:40 [INFO]         'approach': 'post_training_static_quant',\n",
      "2024-02-13 22:56:40 [INFO]         'backend': 'ipex',\n",
      "2024-02-13 22:56:40 [INFO]         'calibration_sampling_size': [\n",
      "2024-02-13 22:56:40 [INFO]             100\n",
      "2024-02-13 22:56:40 [INFO]         ],\n",
      "2024-02-13 22:56:40 [INFO]         'device': 'cpu',\n",
      "2024-02-13 22:56:40 [INFO]         'diagnosis': False,\n",
      "2024-02-13 22:56:40 [INFO]         'domain': 'nlp',\n",
      "2024-02-13 22:56:40 [INFO]         'example_inputs': 'Not printed here due to large size tensors...',\n",
      "2024-02-13 22:56:40 [INFO]         'excluded_precisions': [\n",
      "2024-02-13 22:56:40 [INFO]         ],\n",
      "2024-02-13 22:56:40 [INFO]         'framework': 'pytorch_ipex',\n",
      "2024-02-13 22:56:40 [INFO]         'inputs': [\n",
      "2024-02-13 22:56:40 [INFO]         ],\n",
      "2024-02-13 22:56:40 [INFO]         'model_name': '',\n",
      "2024-02-13 22:56:40 [INFO]         'ni_workload_name': 'quantization',\n",
      "2024-02-13 22:56:40 [INFO]         'op_name_dict': None,\n",
      "2024-02-13 22:56:40 [INFO]         'op_type_dict': None,\n",
      "2024-02-13 22:56:40 [INFO]         'outputs': [\n",
      "2024-02-13 22:56:41 [INFO]         ],\n",
      "2024-02-13 22:56:41 [INFO]         'quant_format': 'default',\n",
      "2024-02-13 22:56:41 [INFO]         'quant_level': 'auto',\n",
      "2024-02-13 22:56:41 [INFO]         'recipes': {\n",
      "2024-02-13 22:56:41 [INFO]             'smooth_quant': False,\n",
      "2024-02-13 22:56:41 [INFO]             'smooth_quant_args': {\n",
      "2024-02-13 22:56:41 [INFO]             },\n",
      "2024-02-13 22:56:41 [INFO]             'layer_wise_quant': False,\n",
      "2024-02-13 22:56:41 [INFO]             'layer_wise_quant_args': {\n",
      "2024-02-13 22:56:41 [INFO]             },\n",
      "2024-02-13 22:56:41 [INFO]             'fast_bias_correction': False,\n",
      "2024-02-13 22:56:41 [INFO]             'weight_correction': False,\n",
      "2024-02-13 22:56:41 [INFO]             'gemm_to_matmul': True,\n",
      "2024-02-13 22:56:41 [INFO]             'graph_optimization_level': None,\n",
      "2024-02-13 22:56:41 [INFO]             'first_conv_or_matmul_quantization': True,\n",
      "2024-02-13 22:56:41 [INFO]             'last_conv_or_matmul_quantization': True,\n",
      "2024-02-13 22:56:41 [INFO]             'pre_post_process_quantization': True,\n",
      "2024-02-13 22:56:41 [INFO]             'add_qdq_pair_to_weight': False,\n",
      "2024-02-13 22:56:41 [INFO]             'optypes_to_exclude_output_quant': [\n",
      "2024-02-13 22:56:41 [INFO]             ],\n",
      "2024-02-13 22:56:41 [INFO]             'dedicated_qdq_pair': False,\n",
      "2024-02-13 22:56:41 [INFO]             'rtn_args': {\n",
      "2024-02-13 22:56:41 [INFO]             },\n",
      "2024-02-13 22:56:41 [INFO]             'awq_args': {\n",
      "2024-02-13 22:56:41 [INFO]             },\n",
      "2024-02-13 22:56:41 [INFO]             'gptq_args': {\n",
      "2024-02-13 22:56:41 [INFO]             },\n",
      "2024-02-13 22:56:41 [INFO]             'teq_args': {\n",
      "2024-02-13 22:56:41 [INFO]             }\n",
      "2024-02-13 22:56:41 [INFO]         },\n",
      "2024-02-13 22:56:41 [INFO]         'reduce_range': None,\n",
      "2024-02-13 22:56:41 [INFO]         'TuningCriterion': {\n",
      "2024-02-13 22:56:41 [INFO]             'max_trials': 100,\n",
      "2024-02-13 22:56:41 [INFO]             'objective': [\n",
      "2024-02-13 22:56:41 [INFO]                 'performance'\n",
      "2024-02-13 22:56:41 [INFO]             ],\n",
      "2024-02-13 22:56:41 [INFO]             'strategy': 'basic',\n",
      "2024-02-13 22:56:41 [INFO]             'strategy_kwargs': None,\n",
      "2024-02-13 22:56:41 [INFO]             'timeout': 0\n",
      "2024-02-13 22:56:41 [INFO]         },\n",
      "2024-02-13 22:56:41 [INFO]         'use_bf16': True\n",
      "2024-02-13 22:56:41 [INFO]     }\n",
      "2024-02-13 22:56:41 [INFO] }\n",
      "2024-02-13 22:56:41 [WARNING] [Strategy] Please install `mpi4py` correctly if using distributed tuning; otherwise, ignore this warning.\n",
      "2024-02-13 22:56:41 [INFO]  Found 12 blocks\n",
      "2024-02-13 22:56:41 [INFO] Attention Blocks: 12\n",
      "2024-02-13 22:56:41 [INFO] FFN Blocks: 12\n",
      "2024-02-13 22:56:41 [INFO] Attention Blocks : \n",
      "2024-02-13 22:56:41 [INFO] [['encoder.layer.0.attention.self.query', 'encoder.layer.0.attention.self.key', 'encoder.layer.0.attention.self.value', 'encoder.layer.0.attention.output.dense'], ['encoder.layer.1.attention.self.query', 'encoder.layer.1.attention.self.key', 'encoder.layer.1.attention.self.value', 'encoder.layer.1.attention.output.dense'], ['encoder.layer.2.attention.self.query', 'encoder.layer.2.attention.self.key', 'encoder.layer.2.attention.self.value', 'encoder.layer.2.attention.output.dense'], ['encoder.layer.3.attention.self.query', 'encoder.layer.3.attention.self.key', 'encoder.layer.3.attention.self.value', 'encoder.layer.3.attention.output.dense'], ['encoder.layer.4.attention.self.query', 'encoder.layer.4.attention.self.key', 'encoder.layer.4.attention.self.value', 'encoder.layer.4.attention.output.dense'], ['encoder.layer.5.attention.self.query', 'encoder.layer.5.attention.self.key', 'encoder.layer.5.attention.self.value', 'encoder.layer.5.attention.output.dense'], ['encoder.layer.6.attention.self.query', 'encoder.layer.6.attention.self.key', 'encoder.layer.6.attention.self.value', 'encoder.layer.6.attention.output.dense'], ['encoder.layer.7.attention.self.query', 'encoder.layer.7.attention.self.key', 'encoder.layer.7.attention.self.value', 'encoder.layer.7.attention.output.dense'], ['encoder.layer.8.attention.self.query', 'encoder.layer.8.attention.self.key', 'encoder.layer.8.attention.self.value', 'encoder.layer.8.attention.output.dense'], ['encoder.layer.9.attention.self.query', 'encoder.layer.9.attention.self.key', 'encoder.layer.9.attention.self.value', 'encoder.layer.9.attention.output.dense'], ['encoder.layer.10.attention.self.query', 'encoder.layer.10.attention.self.key', 'encoder.layer.10.attention.self.value', 'encoder.layer.10.attention.output.dense'], ['encoder.layer.11.attention.self.query', 'encoder.layer.11.attention.self.key', 'encoder.layer.11.attention.self.value', 'encoder.layer.11.attention.output.dense']]\n",
      "2024-02-13 22:56:41 [INFO] FFN Blocks : \n",
      "2024-02-13 22:56:41 [INFO] [['encoder.layer.0.intermediate.dense', 'encoder.layer.0.output.dense'], ['encoder.layer.1.intermediate.dense', 'encoder.layer.1.output.dense'], ['encoder.layer.2.intermediate.dense', 'encoder.layer.2.output.dense'], ['encoder.layer.3.intermediate.dense', 'encoder.layer.3.output.dense'], ['encoder.layer.4.intermediate.dense', 'encoder.layer.4.output.dense'], ['encoder.layer.5.intermediate.dense', 'encoder.layer.5.output.dense'], ['encoder.layer.6.intermediate.dense', 'encoder.layer.6.output.dense'], ['encoder.layer.7.intermediate.dense', 'encoder.layer.7.output.dense'], ['encoder.layer.8.intermediate.dense', 'encoder.layer.8.output.dense'], ['encoder.layer.9.intermediate.dense', 'encoder.layer.9.output.dense'], ['encoder.layer.10.intermediate.dense', 'encoder.layer.10.output.dense'], ['encoder.layer.11.intermediate.dense', 'encoder.layer.11.output.dense']]\n",
      "2024-02-13 22:56:41 [INFO] Pass query framework capability elapsed time: 640.71 ms\n",
      "2024-02-13 22:56:41 [INFO] Get FP32 model baseline.\n",
      "2024-02-13 22:56:41 [INFO] Save tuning history to /home/sdp/dkorat/setfit/notebooks/nc_workspace/2024-02-13_22-56-37/./history.snapshot.\n",
      "2024-02-13 22:56:41 [INFO] FP32 baseline is: [Accuracy: 1.0000, Duration (seconds): 0.0000]\n",
      "2024-02-13 22:56:41 [INFO] Quantize the model with default config.\n",
      "2024-02-13 22:56:51 [INFO] |******Mixed Precision Statistics******|\n",
      "2024-02-13 22:56:51 [INFO] +---------------+-----------+----------+\n",
      "2024-02-13 22:56:51 [INFO] |    Op Type    |   Total   |   INT8   |\n",
      "2024-02-13 22:56:51 [INFO] +---------------+-----------+----------+\n",
      "2024-02-13 22:56:51 [INFO] |     matmul    |     24    |    24    |\n",
      "2024-02-13 22:56:51 [INFO] |     Linear    |     25    |    25    |\n",
      "2024-02-13 22:56:51 [INFO] +---------------+-----------+----------+\n",
      "2024-02-13 22:56:51 [INFO] Pass quantize model elapsed time: 9116.75 ms\n",
      "2024-02-13 22:56:51 [INFO] Tune 1 result is: [Accuracy (int8|fp32): 1.0000|1.0000, Duration (seconds) (int8|fp32): 0.0000|0.0000], Best tune result is: [Accuracy: 1.0000, Duration (seconds): 0.0000]\n",
      "2024-02-13 22:56:51 [INFO] |**********************Tune Result Statistics**********************|\n",
      "2024-02-13 22:56:51 [INFO] +--------------------+----------+---------------+------------------+\n",
      "2024-02-13 22:56:51 [INFO] |     Info Type      | Baseline | Tune 1 result | Best tune result |\n",
      "2024-02-13 22:56:51 [INFO] +--------------------+----------+---------------+------------------+\n",
      "2024-02-13 22:56:51 [INFO] |      Accuracy      | 1.0000   |    1.0000     |     1.0000       |\n",
      "2024-02-13 22:56:51 [INFO] | Duration (seconds) | 0.0000   |    0.0000     |     0.0000       |\n",
      "2024-02-13 22:56:51 [INFO] +--------------------+----------+---------------+------------------+\n",
      "2024-02-13 22:56:51 [INFO] [Strategy] Found a model that meets the accuracy requirements.\n",
      "2024-02-13 22:56:51 [INFO] Save tuning history to /home/sdp/dkorat/setfit/notebooks/nc_workspace/2024-02-13_22-56-37/./history.snapshot.\n",
      "2024-02-13 22:56:51 [INFO] [Strategy] Found the model meets accuracy requirements, ending the tuning process.\n",
      "2024-02-13 22:56:51 [INFO] Specified timeout or max trials is reached! Found a quantized model which meet accuracy goal. Exit.\n",
      "2024-02-13 22:56:51 [INFO] Save deploy yaml to /home/sdp/dkorat/setfit/notebooks/nc_workspace/2024-02-13_22-56-37/deploy.yaml\n",
      "Model weights saved to /tmp/bge-small-en-v1.5_setfit-sst2-english_opt/pytorch_model.bin\n",
      "Configuration saved in /tmp/bge-small-en-v1.5_setfit-sst2-english_opt/inc_config.json\n"
     ]
    }
   ],
   "source": [
    "from optimum.intel import INCQuantizer\n",
    "from neural_compressor.config import PostTrainingQuantConfig\n",
    "\n",
    "setfit_body = setfit_model.model_body[0].auto_model\n",
    "quantizer = INCQuantizer.from_pretrained(setfit_body)\n",
    "optimum_model_path = \"/tmp/bge-small-en-v1.5_setfit-sst2-english_opt\"\n",
    "quantization_config = PostTrainingQuantConfig(approach=\"static\", backend=\"ipex\", domain=\"nlp\")\n",
    "quantizer.quantize(\n",
    "    quantization_config=quantization_config,\n",
    "    calibration_dataset=calibration_set,\n",
    "    save_directory=optimum_model_path,\n",
    "    batch_size=1,\n",
    ")\n",
    "tokenizer.save_pretrained(optimum_model_path);"
   ]
  },
  {
   "cell_type": "markdown",
   "id": "f1e8d9eb-354c-4d0f-8b68-d1cb3417dd29",
   "metadata": {},
   "source": [
    "#### Benchmark Optimum Model"
   ]
  },
  {
   "cell_type": "markdown",
   "id": "424628ae-091b-47bd-952f-96e1d6e7a1b2",
   "metadata": {},
   "source": [
    "This next class defines a wrapper around our SetFit model which plugs in our quantized model at inference (instead of the original model body)."
   ]
  },
  {
   "cell_type": "code",
   "execution_count": 11,
   "id": "09e47ade-06ba-4a5f-8f7a-d35ccf8d8ccb",
   "metadata": {},
   "outputs": [],
   "source": [
    "import optimum.intel\n",
    "\n",
    "class OptimumSetFitModel:\n",
    "    def __init__(self, setfit_model, model_body):\n",
    "        model_body.tokenizer = setfit_model.model_body.tokenizer\n",
    "        self.model_body = model_body\n",
    "        self.model_head = setfit_model.model_head"
   ]
  },
  {
   "cell_type": "markdown",
   "id": "72e7215f",
   "metadata": {},
   "source": [
    "Time to run the performance benchmark on our optimized SetFit model!"
   ]
  },
  {
   "cell_type": "code",
   "execution_count": 12,
   "id": "4941e895-72e2-43e6-a3f4-9af39a5f0315",
   "metadata": {},
   "outputs": [
    {
     "name": "stdout",
     "output_type": "stream",
     "text": [
      "====================================================================================================\n"
     ]
    },
    {
     "data": {
      "application/vnd.jupyter.widget-view+json": {
       "model_id": "402647dd9ad64322950a6534330816b2",
       "version_major": 2,
       "version_minor": 0
      },
      "text/plain": [
       "Warmup (batch_size=1):   0%|          | 0/5 [00:00<?, ?it/s]"
      ]
     },
     "metadata": {},
     "output_type": "display_data"
    },
    {
     "data": {
      "application/vnd.jupyter.widget-view+json": {
       "model_id": "5b488b01dc7243008823985b838004c5",
       "version_major": 2,
       "version_minor": 0
      },
      "text/plain": [
       "Timed Run (batch_size=1):   0%|          | 0/15 [00:00<?, ?it/s]"
      ]
     },
     "metadata": {},
     "output_type": "display_data"
    },
    {
     "name": "stdout",
     "output_type": "stream",
     "text": [
      "Avg. latency (ms), batch_size=1 - 5.37 +/- 0.65\n",
      "Avg. throughput (samples/sec), batch_size=1 - 188.2 +/- 16.2\n"
     ]
    },
    {
     "data": {
      "application/vnd.jupyter.widget-view+json": {
       "model_id": "c60eec32d9724315ba624bb5195c7b6b",
       "version_major": 2,
       "version_minor": 0
      },
      "text/plain": [
       "Warmup (batch_size=2):   0%|          | 0/5 [00:00<?, ?it/s]"
      ]
     },
     "metadata": {},
     "output_type": "display_data"
    },
    {
     "data": {
      "application/vnd.jupyter.widget-view+json": {
       "model_id": "2bba7dbe33d74b7492ad16e19f75f3e8",
       "version_major": 2,
       "version_minor": 0
      },
      "text/plain": [
       "Timed Run (batch_size=2):   0%|          | 0/15 [00:00<?, ?it/s]"
      ]
     },
     "metadata": {},
     "output_type": "display_data"
    },
    {
     "name": "stdout",
     "output_type": "stream",
     "text": [
      "Avg. throughput (samples/sec), batch_size=2 - 212.9 +/- 18.0\n"
     ]
    },
    {
     "data": {
      "application/vnd.jupyter.widget-view+json": {
       "model_id": "beabff35e6df486494a6061ca90f9a71",
       "version_major": 2,
       "version_minor": 0
      },
      "text/plain": [
       "Warmup (batch_size=4):   0%|          | 0/5 [00:00<?, ?it/s]"
      ]
     },
     "metadata": {},
     "output_type": "display_data"
    },
    {
     "data": {
      "application/vnd.jupyter.widget-view+json": {
       "model_id": "1a901bb694a440b5b6095864221b54b5",
       "version_major": 2,
       "version_minor": 0
      },
      "text/plain": [
       "Timed Run (batch_size=4):   0%|          | 0/15 [00:00<?, ?it/s]"
      ]
     },
     "metadata": {},
     "output_type": "display_data"
    },
    {
     "name": "stdout",
     "output_type": "stream",
     "text": [
      "Avg. throughput (samples/sec), batch_size=4 - 337.7 +/- 17.3\n"
     ]
    },
    {
     "data": {
      "application/vnd.jupyter.widget-view+json": {
       "model_id": "bb85c93ed355484888eac3a6025e083c",
       "version_major": 2,
       "version_minor": 0
      },
      "text/plain": [
       "Warmup (batch_size=8):   0%|          | 0/5 [00:00<?, ?it/s]"
      ]
     },
     "metadata": {},
     "output_type": "display_data"
    },
    {
     "data": {
      "application/vnd.jupyter.widget-view+json": {
       "model_id": "51566cc01eca4919b7f332194bd70434",
       "version_major": 2,
       "version_minor": 0
      },
      "text/plain": [
       "Timed Run (batch_size=8):   0%|          | 0/15 [00:00<?, ?it/s]"
      ]
     },
     "metadata": {},
     "output_type": "display_data"
    },
    {
     "name": "stdout",
     "output_type": "stream",
     "text": [
      "Avg. throughput (samples/sec), batch_size=8 - 473.9 +/- 16.8\n"
     ]
    },
    {
     "data": {
      "application/vnd.jupyter.widget-view+json": {
       "model_id": "c9964b02e2ff4ca4a226d666a5daf532",
       "version_major": 2,
       "version_minor": 0
      },
      "text/plain": [
       "Warmup (batch_size=16):   0%|          | 0/5 [00:00<?, ?it/s]"
      ]
     },
     "metadata": {},
     "output_type": "display_data"
    },
    {
     "data": {
      "application/vnd.jupyter.widget-view+json": {
       "model_id": "d2fd390edc344309ad44b54cee1ec277",
       "version_major": 2,
       "version_minor": 0
      },
      "text/plain": [
       "Timed Run (batch_size=16):   0%|          | 0/15 [00:00<?, ?it/s]"
      ]
     },
     "metadata": {},
     "output_type": "display_data"
    },
    {
     "name": "stdout",
     "output_type": "stream",
     "text": [
      "Avg. throughput (samples/sec), batch_size=16 - 573.4 +/- 12.8\n"
     ]
    },
    {
     "data": {
      "application/vnd.jupyter.widget-view+json": {
       "model_id": "687621e469454f3cb5d7f876db72327d",
       "version_major": 2,
       "version_minor": 0
      },
      "text/plain": [
       "Warmup (batch_size=32):   0%|          | 0/5 [00:00<?, ?it/s]"
      ]
     },
     "metadata": {},
     "output_type": "display_data"
    },
    {
     "data": {
      "application/vnd.jupyter.widget-view+json": {
       "model_id": "ddb80ed55aee41348af5b498fe89b532",
       "version_major": 2,
       "version_minor": 0
      },
      "text/plain": [
       "Timed Run (batch_size=32):   0%|          | 0/15 [00:00<?, ?it/s]"
      ]
     },
     "metadata": {},
     "output_type": "display_data"
    },
    {
     "name": "stdout",
     "output_type": "stream",
     "text": [
      "Avg. throughput (samples/sec), batch_size=32 - 694.1 +/- 16.2\n"
     ]
    },
    {
     "data": {
      "application/vnd.jupyter.widget-view+json": {
       "model_id": "8566a97b888a4c529194c9f0a4514f07",
       "version_major": 2,
       "version_minor": 0
      },
      "text/plain": [
       "Warmup (batch_size=64):   0%|          | 0/5 [00:00<?, ?it/s]"
      ]
     },
     "metadata": {},
     "output_type": "display_data"
    },
    {
     "data": {
      "application/vnd.jupyter.widget-view+json": {
       "model_id": "594b2fb0f38e485c881099ab1353f927",
       "version_major": 2,
       "version_minor": 0
      },
      "text/plain": [
       "Timed Run (batch_size=64):   0%|          | 0/15 [00:00<?, ?it/s]"
      ]
     },
     "metadata": {},
     "output_type": "display_data"
    },
    {
     "name": "stdout",
     "output_type": "stream",
     "text": [
      "Avg. throughput (samples/sec), batch_size=64 - 762.0 +/- 6.8\n"
     ]
    },
    {
     "data": {
      "application/vnd.jupyter.widget-view+json": {
       "model_id": "ea19efe700144b9b91fbb85f675ca73f",
       "version_major": 2,
       "version_minor": 0
      },
      "text/plain": [
       "Warmup (batch_size=128):   0%|          | 0/5 [00:00<?, ?it/s]"
      ]
     },
     "metadata": {},
     "output_type": "display_data"
    },
    {
     "data": {
      "application/vnd.jupyter.widget-view+json": {
       "model_id": "336ef7dd1b314736b18dadbe918ce8a0",
       "version_major": 2,
       "version_minor": 0
      },
      "text/plain": [
       "Timed Run (batch_size=128):   0%|          | 0/15 [00:00<?, ?it/s]"
      ]
     },
     "metadata": {},
     "output_type": "display_data"
    },
    {
     "name": "stdout",
     "output_type": "stream",
     "text": [
      "Avg. throughput (samples/sec), batch_size=128 - 777.0 +/- 9.1\n"
     ]
    },
    {
     "data": {
      "application/vnd.jupyter.widget-view+json": {
       "model_id": "80283f479f6042a4965c78606c638a63",
       "version_major": 2,
       "version_minor": 0
      },
      "text/plain": [
       "Warmup (batch_size=256):   0%|          | 0/5 [00:00<?, ?it/s]"
      ]
     },
     "metadata": {},
     "output_type": "display_data"
    },
    {
     "data": {
      "application/vnd.jupyter.widget-view+json": {
       "model_id": "6540e8c5910b4dfaad531154e7fe9234",
       "version_major": 2,
       "version_minor": 0
      },
      "text/plain": [
       "Timed Run (batch_size=256):   0%|          | 0/15 [00:00<?, ?it/s]"
      ]
     },
     "metadata": {},
     "output_type": "display_data"
    },
    {
     "name": "stdout",
     "output_type": "stream",
     "text": [
      "Avg. throughput (samples/sec), batch_size=256 - 773.4 +/- 20.7\n"
     ]
    },
    {
     "data": {
      "application/vnd.jupyter.widget-view+json": {
       "model_id": "ccedf2b6f13d4fb1b942eb1aac5e898b",
       "version_major": 2,
       "version_minor": 0
      },
      "text/plain": [
       "Warmup (batch_size=512):   0%|          | 0/5 [00:00<?, ?it/s]"
      ]
     },
     "metadata": {},
     "output_type": "display_data"
    },
    {
     "data": {
      "application/vnd.jupyter.widget-view+json": {
       "model_id": "2a27699c467f4a528b14b2bbbd8bf0bc",
       "version_major": 2,
       "version_minor": 0
      },
      "text/plain": [
       "Timed Run (batch_size=512):   0%|          | 0/15 [00:00<?, ?it/s]"
      ]
     },
     "metadata": {},
     "output_type": "display_data"
    },
    {
     "name": "stdout",
     "output_type": "stream",
     "text": [
      "Avg. throughput (samples/sec), batch_size=512 - 755.2 +/- 1.4\n"
     ]
    },
    {
     "data": {
      "application/vnd.jupyter.widget-view+json": {
       "model_id": "608e7183cce54f45b90199df906d403d",
       "version_major": 2,
       "version_minor": 0
      },
      "text/plain": [
       "Warmup (batch_size=1024):   0%|          | 0/5 [00:00<?, ?it/s]"
      ]
     },
     "metadata": {},
     "output_type": "display_data"
    },
    {
     "data": {
      "application/vnd.jupyter.widget-view+json": {
       "model_id": "3a275891aeab4faa99b8075a7cb84219",
       "version_major": 2,
       "version_minor": 0
      },
      "text/plain": [
       "Timed Run (batch_size=1024):   0%|          | 0/15 [00:00<?, ?it/s]"
      ]
     },
     "metadata": {},
     "output_type": "display_data"
    },
    {
     "name": "stdout",
     "output_type": "stream",
     "text": [
      "Avg. throughput (samples/sec), batch_size=1024 - 803.7 +/- 21.9\n"
     ]
    },
    {
     "data": {
      "application/vnd.jupyter.widget-view+json": {
       "model_id": "6f7d0a9d04b5416da47ffd419be89415",
       "version_major": 2,
       "version_minor": 0
      },
      "text/plain": [
       "Warmup (batch_size=2048):   0%|          | 0/5 [00:00<?, ?it/s]"
      ]
     },
     "metadata": {},
     "output_type": "display_data"
    },
    {
     "data": {
      "application/vnd.jupyter.widget-view+json": {
       "model_id": "b9cd030208554e108e42d5651d27452c",
       "version_major": 2,
       "version_minor": 0
      },
      "text/plain": [
       "Timed Run (batch_size=2048):   0%|          | 0/15 [00:00<?, ?it/s]"
      ]
     },
     "metadata": {},
     "output_type": "display_data"
    },
    {
     "name": "stdout",
     "output_type": "stream",
     "text": [
      "Avg. throughput (samples/sec), batch_size=2048 - 806.5 +/- 0.6\n",
      "Model size (MB) - 44.65\n",
      "Accuracy on test set - 0.881\n"
     ]
    }
   ],
   "source": [
    "optimum_model = optimum.intel.IPEXModel.from_pretrained(optimum_model_path)\n",
    "optimum_setfit_model = OptimumSetFitModel(setfit_model, model_body=optimum_model)\n",
    "\n",
    "pb = PerformanceBenchmark(\n",
    "    model=optimum_setfit_model,\n",
    "    dataset=test_dataset,\n",
    "    optim_type=f\"bge-small (optimum intel)\",\n",
    "    max_sequence_length=512,\n",
    "    model_path=optimum_model_path,\n",
    "    enable_autocast=True,\n",
    ")\n",
    "perf_metrics.update(pb.run_benchmark())"
   ]
  },
  {
   "cell_type": "markdown",
   "id": "da6b2998-6605-4e42-9fb5-247c5eee750f",
   "metadata": {},
   "source": [
    "#### Plot Latencies and Compute Latency Speedup"
   ]
  },
  {
   "cell_type": "code",
   "execution_count": 13,
   "id": "O8jpZ3gdWRn9",
   "metadata": {
    "colab": {
     "base_uri": "https://localhost:8080/"
    },
    "id": "O8jpZ3gdWRn9",
    "outputId": "8d31c81a-67e4-4074-cf35-9f56d6dcdd20"
   },
   "outputs": [
    {
     "data": {
      "image/png": "[encoded data removed]",
      "text/plain": [
       "<Figure size 720x480 with 1 Axes>"
      ]
     },
     "metadata": {},
     "output_type": "display_data"
    },
    {
     "name": "stdout",
     "output_type": "stream",
     "text": [
      "Latency speedup for 'bge-small (optimum-intel)': 3.68x\n"
     ]
    }
   ],
   "source": [
    "plot_metrics(perf_metrics)\n",
    "speedup = perf_metrics['bge-small (PyTorch)']['time_avg_ms'] / perf_metrics['bge-small (optimum intel)']['time_avg_ms']\n",
    "print(f\"Latency speedup for 'bge-small (optimum-intel)': {speedup:.2f}x\")"
   ]
  },
  {
   "cell_type": "markdown",
   "id": "48568c7b",
   "metadata": {
    "jp-MarkdownHeadingCollapsed": true
   },
   "source": [
    "#### After optimizing, inference with batch size 1 is 3.68x faster than before, with minimal drop in accuracy!"
   ]
  },
  {
   "cell_type": "markdown",
   "id": "abd6872f-1765-48a5-beba-a989555b5461",
   "metadata": {},
   "source": [
    "#### Throughput Speedup"
   ]
  },
  {
   "cell_type": "markdown",
   "id": "9e043497-89c0-44a7-b08f-1f8012cd9fba",
   "metadata": {},
   "source": [
    "Let's look now at the throughput, which is the number of samples the model can predict per second.\\\n",
    "We'll plot this value for our optimized and baseline models, as a function of the batch size."
   ]
  },
  {
   "cell_type": "code",
   "execution_count": 30,
   "id": "c701770a-d643-4f32-bd56-2574ba7dc691",
   "metadata": {},
   "outputs": [
    {
     "data": {
      "image/png": "[encoded data removed]",
      "text/plain": [
       "<Figure size 1200x720 with 1 Axes>"
      ]
     },
     "metadata": {},
     "output_type": "display_data"
    },
    {
     "name": "stdout",
     "output_type": "stream",
     "text": [
      "Throughput speedup (maximums) for 'bge-small (optimum-intel)': 6.91x\n"
     ]
    }
   ],
   "source": [
    "def plot_throughputs(perf_metrics):\n",
    "    plt.figure(figsize=(10, 6), dpi=120)\n",
    "    maximums = []\n",
    "    for (label, metric) in perf_metrics.items():\n",
    "        xs = np.arange(len(metric[\"batch_sizes\"]))\n",
    "        y_mean, y_std = np.array(metric[\"throughputs_avg\"]), np.array(metric[\"throughputs_std\"])\n",
    "        maximums.append((np.argmax(y_mean), max(y_mean)))\n",
    "        plt.plot(xs, y_mean, label=label, alpha=0.8)\n",
    "        plt.fill_between(xs, y_mean - y_std, y_mean + y_std, alpha=0.2)\n",
    "        for x, y in zip(xs, y_mean):\n",
    "            plt.text(x, y, f'{y:.1f}', ha='right', va='bottom', fontsize=7, color=\"black\")\n",
    "        \n",
    "    plt.xticks(xs, pb.batch_sizes[:len(xs)])\n",
    "    plt.ylabel('Samples/Second')\n",
    "    plt.suptitle('Throughput vs Batch Size')\n",
    "    plt.title('\\nBAAI/bge-small-en-v1.5 SetFit model trained on SetFit/sst2', fontsize=8)\n",
    "    plt.legend()\n",
    "    plt.grid(True, linestyle='--', alpha=0.7)\n",
    "    # Add Speedup Arrow\n",
    "    maxes = np.array(sorted(maximums, key=lambda x: x[0]))\n",
    "    maxes[0] += (0.6, 70)\n",
    "    maxes[1] -= (0.6, 60)\n",
    "    arrow_kwargs = dict(head_width = 0.35, head_length=30, color=\"green\", alpha=0.3)\n",
    "    plt.arrow(*maxes[0], *(maxes[1] - maxes[0]), **arrow_kwargs)\n",
    "    plt.arrow(*maxes[1], *(maxes[0] - maxes[1]), **arrow_kwargs)\n",
    "    plt.show()\n",
    "\n",
    "plot_throughputs(perf_metrics)\n",
    "speedup = max(perf_metrics['bge-small (optimum intel)']['throughputs_avg']) / max(perf_metrics['bge-small (PyTorch)']['throughputs_avg'])\n",
    "print(f\"Throughput speedup (maximums) for 'bge-small (optimum-intel)': {speedup:.2f}x\")"
   ]
  },
  {
   "cell_type": "markdown",
   "id": "777c6ab3-0d71-453a-9af3-67f8947fa6ce",
   "metadata": {},
   "source": [
    "#### The throughput is where our optmiziation shines - our optimized model achieves 6.91x speedup in max throughput!"
   ]
  }
 ],
 "metadata": {
  "accelerator": "GPU",
  "colab": {
   "gpuType": "T4",
   "provenance": []
  },
  "kernelspec": {
   "display_name": "setfit",
   "language": "python",
   "name": "setfit"
  },
  "language_info": {
   "codemirror_mode": {
    "name": "ipython",
    "version": 3
   },
   "file_extension": ".py",
   "mimetype": "text/x-python",
   "name": "python",
   "nbconvert_exporter": "python",
   "pygments_lexer": "ipython3",
   "version": "3.10.13"
  }
 },
 "nbformat": 4,
 "nbformat_minor": 5
}
