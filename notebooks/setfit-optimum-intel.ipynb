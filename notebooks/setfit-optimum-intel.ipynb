{
 "cells": [
  {
   "cell_type": "markdown",
   "id": "76571396-8f54-40ed-9e81-6c7531e6eaee",
   "metadata": {
    "id": "76571396-8f54-40ed-9e81-6c7531e6eaee"
   },
   "source": [
    "# Accelerate SetFit Models with 🤗 Optimum Intel"
   ]
  },
  {
   "cell_type": "markdown",
   "id": "4733f283-4736-4d9d-854e-5582280b074d",
   "metadata": {},
   "source": [
    "In this notebook, we'll show how you can use 🤗 [Optimum Intel](https://github.com/huggingface/optimum-intel) to speed up your SetFit models on Intel CPUs.\\\n",
    "[Optimum Intel](https://github.com/huggingface/optimum-intel) is an open-source library that accelerates end-to-end pipelines built with Hugging Face libraries on Intel Hardware. Optimum Intel includes several techniques to accelerate models such as low-bit quantization, model weight pruning, distillation, and an accelerated runtime.\n",
    "\n",
    "Optimizing pre-trained models can be done easily with Optimum Intel; many simple examples can be found [here](https://huggingface.co/docs/optimum/main/en/intel/optimization_inc).\n",
    "\n",
    "In our experiments, we will be using a fine-tuned SetFit model based on [`bge-small-en-v1.5`](https://huggingface.co/BAAI/bge-small-en-v1.5) [Sentence Transformer](https://www.sbert.net/) model and observe our performance increase. \\\n",
    "We'll compare the performance of the Optimum Intel optimization with two other commonly used methods:\n",
    "\n",
    " - Using PyTorch and Huggingface's Transformers library with fp32.\n",
    " - Using [Intel Extension for PyTorch](https://github.com/intel/intel-extension-for-pytorch) (IPEX) runtime with bf16 and tracing the model using torchscript.\n",
    "\n",
    "For further details, please refer to our [blog]()."
   ]
  },
  {
   "cell_type": "markdown",
   "id": "2d874cea-d8d1-4fdf-b374-7772811fe7b7",
   "metadata": {},
   "source": [
    "### Prerequisites"
   ]
  },
  {
   "cell_type": "markdown",
   "id": "4bbde933-a2f1-4159-9b93-cfcf73f28c79",
   "metadata": {},
   "source": [
    "* Linux OS\n",
    "* Python 3.9+\n",
    "* An Intel Xeon Processor which supports [bfloat16](https://www.intel.com/content/www/us/en/developer/articles/technical/pytorch-on-xeon-processors-with-bfloat16.html)\n",
    "\n",
    "Since Google Colab doesn't meet the hardware requirement, it's incompatible with this notebook and will not see speedups from our optimizations.\n",
    "\n",
    "Please run the following to ensure you meet the requirements."
   ]
  },
  {
   "cell_type": "code",
   "execution_count": 1,
   "id": "d7d9247a-b053-46af-89f6-e57067ecb8cd",
   "metadata": {},
   "outputs": [
    {
     "name": "stdout",
     "output_type": "stream",
     "text": [
      "Notebook requirements  met.\n"
     ]
    }
   ],
   "source": [
    "import sys\n",
    "import os\n",
    "from time import sleep\n",
    "\n",
    "os_info = !uname -o\n",
    "os_type = os_info[0]\n",
    "is_os_ok = \"linux\" in os_type.lower()\n",
    "is_python_ver_ok = sys.version_info.major == 3 and sys.version_info.minor >=9\n",
    "cpu_info = !lscpu\n",
    "is_cpu_ok = \"intel\" in cpu_info.grep(\"vendor\")[0].lower() and \"bf16\" in cpu_info.grep(\"flags\")[0]\n",
    "if not is_os_ok:\n",
    "    print(f\"This notebook requires a Linux type operating system, but you have {os_type}\")\n",
    "if not is_python_ver_ok:\n",
    "    print(f\"This notebook requires Python 3.9+ but your version is {sys.version.split()[0]}.\")\n",
    "if not is_cpu_ok:\n",
    "    print(f\"Your CPU does not support bfloat16.\")\n",
    "print(f\"Notebook requirements {'' if is_os_ok and is_python_ver_ok and is_cpu_ok else 'not'} met.\")"
   ]
  },
  {
   "cell_type": "markdown",
   "id": "8855b561-fea5-4137-ab78-e3c32a200748",
   "metadata": {},
   "source": [
    "### Before Running this Notebook\n",
    "1. Please create a `conda` environment and install `jupyterlab`:\n",
    "```bash\n",
    "conda create -n setfit python=3.10 -y && conda activate setfit\n",
    "python -m pip install -U jupyterlab\n",
    "```\n",
    "\n",
    "2. Install **TCMalloc**: Google's fast, multi-threaded `malloc()` implementation:\n",
    "```bash\n",
    "conda install gperftools -c conda-forge -y\n",
    "echo export LD_PRELOAD=${CONDA_PREFIX}/lib/libtcmalloc.so:$LD_PRELOAD >> ~/.bashrc\n",
    "# **** Restart the shell or `source ~/.bashrc` ****\n",
    "```\n",
    "\n",
    "3. To reproduce the maximum speeds reported in this notebook, please launch it using `numactl`.\\\n",
    "`numactl` enables gaining better control on which resources you're running. \\\n",
    "It's best to run on a single socket (`-m 0`):\n",
    "```bash\n",
    "OMP_NUM_THREADS=<NUM_THREADS> numactl -C <CORES_RANGE> -m 0 jupyter lab\n",
    "```\n",
    "\n",
    "**Note**: For even increased throughput, the data can be split into 2 processes, each running seperately on a different socket."
   ]
  },
  {
   "cell_type": "markdown",
   "id": "67c08bea-1c62-450b-b532-068bbd6bc92d",
   "metadata": {},
   "source": [
    "#### Experimental Setup\n",
    "- Hardware (CPU): 5th gen Intel Xeon 8580 with 2 sockets, 60 cores per socket.\n",
    "- This notebook was tested on `Ubuntu 22.04.3 LTS` and `Python 3.10.13`.\n",
    "- All runs were evaluated with 60 cores on 1 CPU socket, and cores ranging from 0-59.\n",
    "- TCMalloc was installed and defined as an environment variable in all runs. (see above)"
   ]
  },
  {
   "cell_type": "markdown",
   "id": "79bc2a85",
   "metadata": {},
   "source": [
    "### Setup\n",
    "Install the required packages to evaluate and visualize results for SetFit models:"
   ]
  },
  {
   "cell_type": "code",
   "execution_count": 2,
   "id": "839bd550",
   "metadata": {},
   "outputs": [],
   "source": [
    "!python -m pip install -U setfit evaluate matplotlib -qqq"
   ]
  },
  {
   "cell_type": "markdown",
   "id": "1f72d255-ab98-4cc3-878b-6a60e08ccf6d",
   "metadata": {},
   "source": [
    "### Install Optimum Intel"
   ]
  },
  {
   "cell_type": "markdown",
   "id": "b1cefb9e-67b8-40d2-9448-5cb54527555f",
   "metadata": {},
   "source": [
    "Install Optimum Intel along with INC and IPEX backends which we'll use in our optimization later on."
   ]
  },
  {
   "cell_type": "code",
   "execution_count": 3,
   "id": "e9466ee2-5791-45b4-b69d-33bb5a82f048",
   "metadata": {},
   "outputs": [],
   "source": [
    "!python -m pip install --upgrade-strategy eager optimum[neural-compressor] -qqq\n",
    "!python -m pip install intel-extension-for-pytorch -qqq"
   ]
  },
  {
   "cell_type": "markdown",
   "id": "2493cd04-812f-461b-bb26-9225d76c2774",
   "metadata": {},
   "source": [
    "### Set Up Benchmark"
   ]
  },
  {
   "cell_type": "markdown",
   "id": "e6a090c0-a065-4b3f-b803-5e518c73299f",
   "metadata": {},
   "source": [
    "First, define the infrastructure for conducting latency, throughput and accuracy benchmarks."
   ]
  },
  {
   "cell_type": "code",
   "execution_count": 14,
   "id": "55756fec-fc22-4590-84d7-2f3df37b9256",
   "metadata": {
    "id": "55756fec-fc22-4590-84d7-2f3df37b9256"
   },
   "outputs": [],
   "source": [
    "import sys\n",
    "import os\n",
    "from time import sleep\n",
    "from pathlib import Path\n",
    "from time import perf_counter\n",
    "import warnings\n",
    "import subprocess\n",
    "import sys\n",
    "from collections import defaultdict\n",
    "\n",
    "import evaluate\n",
    "import numpy as np\n",
    "import torch\n",
    "from tqdm.auto import trange\n",
    "from sentence_transformers import SentenceTransformer\n",
    "from setfit.exporters.utils import mean_pooling\n",
    "import logging\n",
    "\n",
    "logging.getLogger(\"sentence_transformers\").setLevel(logging.ERROR)\n",
    "warnings.filterwarnings(\"ignore\")\n",
    "os.environ[\"TOKENIZERS_PARALLELISM\"] = \"false\"\n",
    "\n",
    "def get_dir_size(path):\n",
    "    ps = subprocess.Popen(('du','-hk', path), stdout=subprocess.PIPE)\n",
    "    output = subprocess.check_output((\"awk\", \"{print $1/1024,$2}\"), stdin=ps.stdout)\n",
    "    ps.wait()\n",
    "    return float(output.split()[0].decode('utf-8'))\n",
    "\n",
    "class PerformanceBenchmark:\n",
    "    def __init__(self, model, dataset, optim_type, max_sequence_length=512, metric=\"accuracy\",\n",
    "                 model_path=None, autocast_dtype=None, batch_sizes=None):\n",
    "        self.model = model\n",
    "        self.dataset = dataset\n",
    "        self.optim_type = optim_type\n",
    "        self.metric = evaluate.load(metric)\n",
    "        self.model_path = model_path\n",
    "        self.tokenizer = self.model.model_body.tokenizer\n",
    "        self.vocab_size = self.tokenizer.vocab_size\n",
    "        self.max_length = max_sequence_length\n",
    "        self.device = self.model.model_body.device\n",
    "        self.batch_sizes = [2 ** i for i in range(10)] if batch_sizes is None else batch_sizes\n",
    "        self.autocast_dtype = autocast_dtype\n",
    "        self.model.model_body.eval()\n",
    "\n",
    "        if \"ipex\" in optim_type:\n",
    "            body = ipex.optimize(self.model.model_body, dtype=self.autocast_dtype)\n",
    "            d = self.generate_random_sequences(batch_size=1)\n",
    "            body = torch.jit.trace(body, (d,), check_trace=False, strict=False)\n",
    "            self.model.model_body = torch.jit.freeze(body)\n",
    "            \n",
    "    def to_device(self, batch):\n",
    "        for key in batch:\n",
    "            batch[key] = batch[key].to(self.device)\n",
    "        return batch\n",
    "\n",
    "    @torch.inference_mode()\n",
    "    def timed_predict(self, inputs=None, encoded_inputs=None):\n",
    "        if encoded_inputs is None:\n",
    "            encoded_inputs = self.tokenizer(\n",
    "            inputs, padding=\"max_length\", max_length=self.max_length, truncation=True, return_tensors=\"pt\"\n",
    "        )\n",
    "        start = perf_counter()\n",
    "        encoded_inputs = self.to_device(encoded_inputs)\n",
    "        \n",
    "        with torch.no_grad(), torch.cpu.amp.autocast(dtype=self.autocast_dtype, enabled=self.autocast_dtype is not None):                \n",
    "            if isinstance(self.model.model_body, SentenceTransformer) or \"ipex\" in self.optim_type:\n",
    "                embeddings = self.model.model_body(encoded_inputs)[\"sentence_embedding\"]\n",
    "            else:\n",
    "                # Quantized SetFit model bodies don't include mean pooling\n",
    "                outputs = self.model.model_body(**encoded_inputs)\n",
    "                embeddings = mean_pooling(outputs[\"last_hidden_state\"], encoded_inputs[\"attention_mask\"])\n",
    "                \n",
    "            preds = self.model.model_head.predict(embeddings)\n",
    "            latency = perf_counter() - start\n",
    "        return preds, latency\n",
    "\n",
    "    def compute_accuracy(self):\n",
    "        preds, _ = self.timed_predict(self.dataset[\"text\"])\n",
    "        accuracy = self.metric.compute(predictions=preds, references=self.dataset[\"label\"])\n",
    "        print(f\"Accuracy on test set - {accuracy['accuracy']:.3f}\")\n",
    "        return accuracy\n",
    "        \n",
    "    def compute_size(self):\n",
    "        if self.model_path is None:\n",
    "            tmp_path = Path(\"model.pt\")\n",
    "            try:\n",
    "                with open(tmp_path, \"wb\") as f:\n",
    "                    torch.jit.save(self.model.model_body, f)\n",
    "            except:\n",
    "                state_dict = self.model.model_body.state_dict()\n",
    "                torch.save(state_dict, tmp_path)\n",
    "            \n",
    "            size_mb = get_dir_size(tmp_path)\n",
    "            # Delete temporary file\n",
    "            tmp_path.unlink()\n",
    "        else:\n",
    "            size_mb = get_dir_size(self.model_path)\n",
    "        print(f\"Model size (MB) - {size_mb:.2f}\")\n",
    "        return {\"size_mb\": size_mb}\n",
    "\n",
    "    def generate_random_sequences(self, batch_size):\n",
    "        input_ids = torch.randint(0, self.vocab_size - 1, (batch_size, self.max_length))\n",
    "        token_type_ids = torch.zeros((batch_size, self.max_length), dtype=torch.int64)\n",
    "        attention_mask = torch.ones((batch_size, self.max_length), dtype=torch.int64)\n",
    "        return {\n",
    "            \"input_ids\": input_ids,\n",
    "            \"token_type_ids\": token_type_ids,\n",
    "            \"attention_mask\": attention_mask,\n",
    "        }\n",
    "\n",
    "    def compute_latency_and_throughput(self, num_iter=100, num_warmup_iter=40):\n",
    "        res = defaultdict(list)\n",
    "        for batch_size in self.batch_sizes:\n",
    "            try:\n",
    "                for _ in trange(num_warmup_iter, desc=f\"Warmup ({batch_size=})\", file=sys.stdout):\n",
    "                    encoded_inputs = self.generate_random_sequences(batch_size=batch_size)\n",
    "                    _ = self.timed_predict(encoded_inputs=encoded_inputs)\n",
    "    \n",
    "                batch_latencies = []\n",
    "                for _ in trange(num_iter, desc=f\"Timed Run ({batch_size=})\", file=sys.stdout):\n",
    "                    encoded_inputs = self.generate_random_sequences(batch_size=batch_size)\n",
    "                    _, latency = self.timed_predict(encoded_inputs=encoded_inputs)\n",
    "                    batch_latencies.append(latency)\n",
    "        \n",
    "                # Compute run statistics\n",
    "                batch_latencies = np.array(batch_latencies)\n",
    "                if batch_size == 1:\n",
    "                    latency = 1000 * (batch_latencies / batch_size)\n",
    "                    res.update({\"time_avg_ms\": np.mean(latency), \"time_std_ms\": np.std(latency)})\n",
    "                    print(f\"Avg. latency (ms), {batch_size=} - {res['time_avg_ms']:.2f} +/- {res['time_std_ms']:.2f}\")\n",
    "    \n",
    "                throughputs = batch_size / batch_latencies\n",
    "                res[\"throughputs_avg\"].append(np.mean(throughputs))\n",
    "                res[\"throughputs_std\"].append(np.std(throughputs))\n",
    "                print(f\"Avg. throughput (samples/sec), {batch_size=} - {res['throughputs_avg'][-1]:.1f} +/- {res['throughputs_std'][-1]:.1f}\")\n",
    "                res[\"batch_sizes\"].append(batch_size)\n",
    "            except Exception as e:\n",
    "                print(f\"Skipping throughput computation at {batch_size=} since it failed with the following error: \\n\\n{e}\\n\")\n",
    "        return res\n",
    "        \n",
    "    def run_benchmark(self):\n",
    "        print(f\"\\n\\n{'*' * 150}\\nOptimization type: {self.optim_type}\\n{'*' * 150}\")\n",
    "        all_metrics = {}\n",
    "        for run_metric in self.compute_accuracy, self.compute_latency_and_throughput, self.compute_size:\n",
    "            all_metrics |= run_metric()\n",
    "            print(\"=\" * 100)\n",
    "        return {self.optim_type: all_metrics}"
   ]
  },
  {
   "cell_type": "markdown",
   "id": "2878768f-9ec4-4675-ab20-0f8bca7bbe37",
   "metadata": {},
   "source": [
    "Let's add a function to plot our results."
   ]
  },
  {
   "cell_type": "code",
   "execution_count": 7,
   "id": "99110d37-1aa1-4373-8517-f1f8acbbc9a4",
   "metadata": {},
   "outputs": [],
   "source": [
    "import pandas as pd\n",
    "import matplotlib.pyplot as plt\n",
    "\n",
    "def plot_metrics(perf_metrics):\n",
    "    df = pd.DataFrame.from_dict(perf_metrics, orient=\"index\")\n",
    "    plt.figure(figsize=(6, 4), dpi=120)\n",
    "    for idx in df.index:\n",
    "        df_opt = df.loc[idx]\n",
    "        x, y = df_opt[\"time_avg_ms\"], df_opt[\"accuracy\"] * 100\n",
    "        plt.errorbar(\n",
    "            x,\n",
    "            y,\n",
    "            xerr=df_opt[\"time_std_ms\"],\n",
    "            fmt=\"o\",\n",
    "            alpha=0.5,\n",
    "            ms=df_opt[\"size_mb\"] / 15,\n",
    "            label=idx,\n",
    "            capsize=5,\n",
    "            capthick=1,\n",
    "        )\n",
    "        plt.text(x, y-3, f'{y:.1f}\\n{x:.1f}ms', va='bottom', fontsize=6, color=\"black\")\n",
    "        \n",
    "    plt.suptitle(\"Accuracy vs Latency (batch_size=1)\")\n",
    "    plt.title('\\nBAAI/bge-small-en-v1.5 SetFit model trained on SetFit/sst2', fontsize=8)\n",
    "    legend = plt.legend(loc=\"lower right\")\n",
    "    plt.ylim(63, 95)\n",
    "    # Use the slowest model to define the x-axis range\n",
    "    xlim = max([metrics[\"time_avg_ms\"] for metrics in perf_metrics.values()]) * 1.3\n",
    "    plt.xlim(0, xlim)\n",
    "    plt.grid(True, linestyle='--', alpha=0.7)\n",
    "    plt.ylabel(\"Accuracy (%)\")\n",
    "    plt.xlabel(\"Latency (ms)\")\n",
    "    plt.savefig(\"accuracy_vs_latency.png\")\n",
    "    plt.show()"
   ]
  },
  {
   "cell_type": "markdown",
   "id": "b842dea2-76cc-408b-9431-0b282b9abaed",
   "metadata": {},
   "source": [
    "## 1. Benchmark SetFit using 🤗 Transformers (Float32)"
   ]
  },
  {
   "cell_type": "markdown",
   "id": "d159ea96-f604-478c-b6a2-bf4cc5c57a5a",
   "metadata": {},
   "source": [
    "Load the dataset for running evaluations:"
   ]
  },
  {
   "cell_type": "code",
   "execution_count": 15,
   "id": "867a9450-d8f0-4697-b3b4-a5ddf6b04906",
   "metadata": {},
   "outputs": [],
   "source": [
    "from datasets import load_dataset\n",
    "from setfit import SetFitModel\n",
    "\n",
    "test_dataset = load_dataset(\"SetFit/sst2\")[\"validation\"]\n",
    "\n",
    "# Prepare variables for benchmarks\n",
    "model_path = \"dkorat/bge-small-en-v1.5_setfit-sst2-english\"\n",
    "perf_metrics = {}"
   ]
  },
  {
   "cell_type": "markdown",
   "id": "b24b47c9-7076-4510-8c1e-5c17445bae34",
   "metadata": {},
   "source": [
    "We'll now run the benchmark with the standard 🤗 Transformers backend:"
   ]
  },
  {
   "cell_type": "code",
   "execution_count": 16,
   "id": "u-w99Y2qW4lU",
   "metadata": {
    "colab": {
     "base_uri": "https://localhost:8080/"
    },
    "id": "u-w99Y2qW4lU",
    "outputId": "57f0b8f7-6dad-4e90-c779-658a7de6e960"
   },
   "outputs": [],
   "source": [
    "setfit_model = SetFitModel.from_pretrained(model_path)\n",
    "pb = PerformanceBenchmark(\n",
    "    model=setfit_model, \n",
    "    dataset=test_dataset, \n",
    "    optim_type=\"bge-small (transformers)\",\n",
    ")\n",
    "perf_metrics.update(pb.run_benchmark())"
   ]
  },
  {
   "cell_type": "markdown",
   "id": "f71722e2-7c40-43a3-ab85-de4398d81df7",
   "metadata": {},
   "source": [
    "## 2. Optimize with [Intel Extension for PyTorch](https://intel.github.io/intel-extension-for-pytorch/#introduction) + [TorchScript](https://pytorch.org/docs/stable/jit.html) (BFloat16)"
   ]
  },
  {
   "cell_type": "markdown",
   "id": "dd52ad3a-12ab-4d25-8fc7-bf4703fb6aae",
   "metadata": {},
   "source": [
    "Let's now optimize by using Intel extension for PyTorch (IPEX) runtime with bf16 and tracing the model using torchscript."
   ]
  },
  {
   "cell_type": "code",
   "execution_count": 8,
   "id": "016316c3-30a0-4dd1-9975-1bfb95613122",
   "metadata": {},
   "outputs": [
    {
     "name": "stdout",
     "output_type": "stream",
     "text": [
      "\n",
      "\n",
      "******************************************************************************************************************************************************\n",
      "Optimization type: bge-small (ipex-float32)\n",
      "******************************************************************************************************************************************************\n",
      "Accuracy on test set - 0.884\n",
      "====================================================================================================\n"
     ]
    },
    {
     "data": {
      "application/vnd.jupyter.widget-view+json": {
       "model_id": "af66ae05e62c4d34aaa7cb6a2b915b12",
       "version_major": 2,
       "version_minor": 0
      },
      "text/plain": [
       "Warmup (batch_size=1):   0%|          | 0/40 [00:00<?, ?it/s]"
      ]
     },
     "metadata": {},
     "output_type": "display_data"
    },
    {
     "data": {
      "application/vnd.jupyter.widget-view+json": {
       "model_id": "aae310351465489a89a57c8c4d03132c",
       "version_major": 2,
       "version_minor": 0
      },
      "text/plain": [
       "Timed Run (batch_size=1):   0%|          | 0/100 [00:00<?, ?it/s]"
      ]
     },
     "metadata": {},
     "output_type": "display_data"
    },
    {
     "name": "stdout",
     "output_type": "stream",
     "text": [
      "Avg. latency (ms), batch_size=1 - 13.07 +/- 0.39\n",
      "Avg. throughput (samples/sec), batch_size=1 - 76.6 +/- 2.2\n"
     ]
    },
    {
     "data": {
      "application/vnd.jupyter.widget-view+json": {
       "model_id": "34cb7087061a41c7845af03173e97036",
       "version_major": 2,
       "version_minor": 0
      },
      "text/plain": [
       "Warmup (batch_size=2):   0%|          | 0/40 [00:00<?, ?it/s]"
      ]
     },
     "metadata": {},
     "output_type": "display_data"
    },
    {
     "data": {
      "application/vnd.jupyter.widget-view+json": {
       "model_id": "4d1698b6d3dc4a06b1e8425452456439",
       "version_major": 2,
       "version_minor": 0
      },
      "text/plain": [
       "Timed Run (batch_size=2):   0%|          | 0/100 [00:00<?, ?it/s]"
      ]
     },
     "metadata": {},
     "output_type": "display_data"
    },
    {
     "name": "stdout",
     "output_type": "stream",
     "text": [
      "Avg. throughput (samples/sec), batch_size=2 - 95.8 +/- 2.2\n"
     ]
    },
    {
     "data": {
      "application/vnd.jupyter.widget-view+json": {
       "model_id": "12926fb49b4c454bb93b483b09f7c91d",
       "version_major": 2,
       "version_minor": 0
      },
      "text/plain": [
       "Warmup (batch_size=4):   0%|          | 0/40 [00:00<?, ?it/s]"
      ]
     },
     "metadata": {},
     "output_type": "display_data"
    },
    {
     "data": {
      "application/vnd.jupyter.widget-view+json": {
       "model_id": "af7ac82b4d474318a855116ed2d26424",
       "version_major": 2,
       "version_minor": 0
      },
      "text/plain": [
       "Timed Run (batch_size=4):   0%|          | 0/100 [00:00<?, ?it/s]"
      ]
     },
     "metadata": {},
     "output_type": "display_data"
    },
    {
     "name": "stdout",
     "output_type": "stream",
     "text": [
      "Avg. throughput (samples/sec), batch_size=4 - 119.5 +/- 12.8\n"
     ]
    },
    {
     "data": {
      "application/vnd.jupyter.widget-view+json": {
       "model_id": "b5034f00795b479296194f32e59b2560",
       "version_major": 2,
       "version_minor": 0
      },
      "text/plain": [
       "Warmup (batch_size=8):   0%|          | 0/40 [00:00<?, ?it/s]"
      ]
     },
     "metadata": {},
     "output_type": "display_data"
    },
    {
     "data": {
      "application/vnd.jupyter.widget-view+json": {
       "model_id": "c0cf32c0ab984e559d2a0a08b5b16c76",
       "version_major": 2,
       "version_minor": 0
      },
      "text/plain": [
       "Timed Run (batch_size=8):   0%|          | 0/100 [00:00<?, ?it/s]"
      ]
     },
     "metadata": {},
     "output_type": "display_data"
    },
    {
     "name": "stdout",
     "output_type": "stream",
     "text": [
      "Avg. throughput (samples/sec), batch_size=8 - 137.3 +/- 9.8\n"
     ]
    },
    {
     "data": {
      "application/vnd.jupyter.widget-view+json": {
       "model_id": "a84daa4d6b6c44d8bf98a52928ceb6ec",
       "version_major": 2,
       "version_minor": 0
      },
      "text/plain": [
       "Warmup (batch_size=16):   0%|          | 0/40 [00:00<?, ?it/s]"
      ]
     },
     "metadata": {},
     "output_type": "display_data"
    },
    {
     "data": {
      "application/vnd.jupyter.widget-view+json": {
       "model_id": "8d6ae8e7db8a471d945ecb4c06e64235",
       "version_major": 2,
       "version_minor": 0
      },
      "text/plain": [
       "Timed Run (batch_size=16):   0%|          | 0/100 [00:00<?, ?it/s]"
      ]
     },
     "metadata": {},
     "output_type": "display_data"
    },
    {
     "name": "stdout",
     "output_type": "stream",
     "text": [
      "Avg. throughput (samples/sec), batch_size=16 - 144.2 +/- 7.4\n"
     ]
    },
    {
     "data": {
      "application/vnd.jupyter.widget-view+json": {
       "model_id": "cbc8a538890448ccbca0d4ad5a384b53",
       "version_major": 2,
       "version_minor": 0
      },
      "text/plain": [
       "Warmup (batch_size=32):   0%|          | 0/40 [00:00<?, ?it/s]"
      ]
     },
     "metadata": {},
     "output_type": "display_data"
    },
    {
     "data": {
      "application/vnd.jupyter.widget-view+json": {
       "model_id": "68fe5c4667d0479b98ff78cc2d81c9b7",
       "version_major": 2,
       "version_minor": 0
      },
      "text/plain": [
       "Timed Run (batch_size=32):   0%|          | 0/100 [00:00<?, ?it/s]"
      ]
     },
     "metadata": {},
     "output_type": "display_data"
    },
    {
     "name": "stdout",
     "output_type": "stream",
     "text": [
      "Avg. throughput (samples/sec), batch_size=32 - 104.9 +/- 22.2\n"
     ]
    },
    {
     "data": {
      "application/vnd.jupyter.widget-view+json": {
       "model_id": "0a1643c960c248ccada45208dc8124de",
       "version_major": 2,
       "version_minor": 0
      },
      "text/plain": [
       "Warmup (batch_size=64):   0%|          | 0/40 [00:00<?, ?it/s]"
      ]
     },
     "metadata": {},
     "output_type": "display_data"
    },
    {
     "data": {
      "application/vnd.jupyter.widget-view+json": {
       "model_id": "416330b5e6564abfb6370c6f4086a634",
       "version_major": 2,
       "version_minor": 0
      },
      "text/plain": [
       "Timed Run (batch_size=64):   0%|          | 0/100 [00:00<?, ?it/s]"
      ]
     },
     "metadata": {},
     "output_type": "display_data"
    },
    {
     "name": "stdout",
     "output_type": "stream",
     "text": [
      "Avg. throughput (samples/sec), batch_size=64 - 98.6 +/- 10.4\n"
     ]
    },
    {
     "data": {
      "application/vnd.jupyter.widget-view+json": {
       "model_id": "ec1a0db0271440e1a79a595b8546912b",
       "version_major": 2,
       "version_minor": 0
      },
      "text/plain": [
       "Warmup (batch_size=128):   0%|          | 0/40 [00:00<?, ?it/s]"
      ]
     },
     "metadata": {},
     "output_type": "display_data"
    },
    {
     "data": {
      "application/vnd.jupyter.widget-view+json": {
       "model_id": "430dab8a4f814e1ab5e20db91b1ed0c0",
       "version_major": 2,
       "version_minor": 0
      },
      "text/plain": [
       "Timed Run (batch_size=128):   0%|          | 0/100 [00:00<?, ?it/s]"
      ]
     },
     "metadata": {},
     "output_type": "display_data"
    },
    {
     "name": "stdout",
     "output_type": "stream",
     "text": [
      "Avg. throughput (samples/sec), batch_size=128 - 82.9 +/- 2.6\n"
     ]
    },
    {
     "data": {
      "application/vnd.jupyter.widget-view+json": {
       "model_id": "44e5ffc53aaa4587a8125fb3edbe5171",
       "version_major": 2,
       "version_minor": 0
      },
      "text/plain": [
       "Warmup (batch_size=256):   0%|          | 0/40 [00:00<?, ?it/s]"
      ]
     },
     "metadata": {},
     "output_type": "display_data"
    },
    {
     "data": {
      "application/vnd.jupyter.widget-view+json": {
       "model_id": "8bc633d036004747ba44fd99542c2206",
       "version_major": 2,
       "version_minor": 0
      },
      "text/plain": [
       "Timed Run (batch_size=256):   0%|          | 0/100 [00:00<?, ?it/s]"
      ]
     },
     "metadata": {},
     "output_type": "display_data"
    },
    {
     "name": "stdout",
     "output_type": "stream",
     "text": [
      "Avg. throughput (samples/sec), batch_size=256 - 104.3 +/- 1.0\n"
     ]
    },
    {
     "data": {
      "application/vnd.jupyter.widget-view+json": {
       "model_id": "b520fc9879574bceb552a56c4c1c655e",
       "version_major": 2,
       "version_minor": 0
      },
      "text/plain": [
       "Warmup (batch_size=512):   0%|          | 0/40 [00:00<?, ?it/s]"
      ]
     },
     "metadata": {},
     "output_type": "display_data"
    },
    {
     "data": {
      "application/vnd.jupyter.widget-view+json": {
       "model_id": "0918be112a934259ac9899181bfd4490",
       "version_major": 2,
       "version_minor": 0
      },
      "text/plain": [
       "Timed Run (batch_size=512):   0%|          | 0/100 [00:00<?, ?it/s]"
      ]
     },
     "metadata": {},
     "output_type": "display_data"
    },
    {
     "name": "stdout",
     "output_type": "stream",
     "text": [
      "Avg. throughput (samples/sec), batch_size=512 - 62.0 +/- 0.3\n",
      "====================================================================================================\n",
      "Model size (MB) - 127.33\n",
      "====================================================================================================\n",
      "\n",
      "\n",
      "******************************************************************************************************************************************************\n",
      "Optimization type: bge-small (ipex-bfloat16)\n",
      "******************************************************************************************************************************************************\n",
      "Accuracy on test set - 0.884\n",
      "====================================================================================================\n"
     ]
    },
    {
     "data": {
      "application/vnd.jupyter.widget-view+json": {
       "model_id": "1bc4520e65b74c5b832a2cbcfccf619a",
       "version_major": 2,
       "version_minor": 0
      },
      "text/plain": [
       "Warmup (batch_size=1):   0%|          | 0/40 [00:00<?, ?it/s]"
      ]
     },
     "metadata": {},
     "output_type": "display_data"
    },
    {
     "data": {
      "application/vnd.jupyter.widget-view+json": {
       "model_id": "bcc53fd2605f4bbb8e445d166bbbb4ae",
       "version_major": 2,
       "version_minor": 0
      },
      "text/plain": [
       "Timed Run (batch_size=1):   0%|          | 0/100 [00:00<?, ?it/s]"
      ]
     },
     "metadata": {},
     "output_type": "display_data"
    },
    {
     "name": "stdout",
     "output_type": "stream",
     "text": [
      "Avg. latency (ms), batch_size=1 - 5.67 +/- 0.66\n",
      "Avg. throughput (samples/sec), batch_size=1 - 178.3 +/- 16.5\n"
     ]
    },
    {
     "data": {
      "application/vnd.jupyter.widget-view+json": {
       "model_id": "f9858c80b32b458b8acd1c342bd5648b",
       "version_major": 2,
       "version_minor": 0
      },
      "text/plain": [
       "Warmup (batch_size=2):   0%|          | 0/40 [00:00<?, ?it/s]"
      ]
     },
     "metadata": {},
     "output_type": "display_data"
    },
    {
     "data": {
      "application/vnd.jupyter.widget-view+json": {
       "model_id": "731f06d764814b2e9f74cecc52c0349a",
       "version_major": 2,
       "version_minor": 0
      },
      "text/plain": [
       "Timed Run (batch_size=2):   0%|          | 0/100 [00:00<?, ?it/s]"
      ]
     },
     "metadata": {},
     "output_type": "display_data"
    },
    {
     "name": "stdout",
     "output_type": "stream",
     "text": [
      "Avg. throughput (samples/sec), batch_size=2 - 247.4 +/- 7.7\n"
     ]
    },
    {
     "data": {
      "application/vnd.jupyter.widget-view+json": {
       "model_id": "a386496f1fc14262922fea20ed6494c0",
       "version_major": 2,
       "version_minor": 0
      },
      "text/plain": [
       "Warmup (batch_size=4):   0%|          | 0/40 [00:00<?, ?it/s]"
      ]
     },
     "metadata": {},
     "output_type": "display_data"
    },
    {
     "data": {
      "application/vnd.jupyter.widget-view+json": {
       "model_id": "d6015d0980a849fe85e1a0db3fc3cc76",
       "version_major": 2,
       "version_minor": 0
      },
      "text/plain": [
       "Timed Run (batch_size=4):   0%|          | 0/100 [00:00<?, ?it/s]"
      ]
     },
     "metadata": {},
     "output_type": "display_data"
    },
    {
     "name": "stdout",
     "output_type": "stream",
     "text": [
      "Avg. throughput (samples/sec), batch_size=4 - 338.7 +/- 6.6\n"
     ]
    },
    {
     "data": {
      "application/vnd.jupyter.widget-view+json": {
       "model_id": "32c45cd56e7044749aa4a535b57c5ea4",
       "version_major": 2,
       "version_minor": 0
      },
      "text/plain": [
       "Warmup (batch_size=8):   0%|          | 0/40 [00:00<?, ?it/s]"
      ]
     },
     "metadata": {},
     "output_type": "display_data"
    },
    {
     "data": {
      "application/vnd.jupyter.widget-view+json": {
       "model_id": "9dca0ee5539045e88ea7a5ad1fb04efe",
       "version_major": 2,
       "version_minor": 0
      },
      "text/plain": [
       "Timed Run (batch_size=8):   0%|          | 0/100 [00:00<?, ?it/s]"
      ]
     },
     "metadata": {},
     "output_type": "display_data"
    },
    {
     "name": "stdout",
     "output_type": "stream",
     "text": [
      "Avg. throughput (samples/sec), batch_size=8 - 424.2 +/- 6.2\n"
     ]
    },
    {
     "data": {
      "application/vnd.jupyter.widget-view+json": {
       "model_id": "67495d6f9c974e3b8b42c75b63e64a76",
       "version_major": 2,
       "version_minor": 0
      },
      "text/plain": [
       "Warmup (batch_size=16):   0%|          | 0/40 [00:00<?, ?it/s]"
      ]
     },
     "metadata": {},
     "output_type": "display_data"
    },
    {
     "data": {
      "application/vnd.jupyter.widget-view+json": {
       "model_id": "d277d6471762463fb32334a39427922d",
       "version_major": 2,
       "version_minor": 0
      },
      "text/plain": [
       "Timed Run (batch_size=16):   0%|          | 0/100 [00:00<?, ?it/s]"
      ]
     },
     "metadata": {},
     "output_type": "display_data"
    },
    {
     "name": "stdout",
     "output_type": "stream",
     "text": [
      "Avg. throughput (samples/sec), batch_size=16 - 481.5 +/- 6.0\n"
     ]
    },
    {
     "data": {
      "application/vnd.jupyter.widget-view+json": {
       "model_id": "1ddf01489cff4b61bcd7729533168ae7",
       "version_major": 2,
       "version_minor": 0
      },
      "text/plain": [
       "Warmup (batch_size=32):   0%|          | 0/40 [00:00<?, ?it/s]"
      ]
     },
     "metadata": {},
     "output_type": "display_data"
    },
    {
     "data": {
      "application/vnd.jupyter.widget-view+json": {
       "model_id": "d61e02f9cd7d4721a38c9c637b40d0bc",
       "version_major": 2,
       "version_minor": 0
      },
      "text/plain": [
       "Timed Run (batch_size=32):   0%|          | 0/100 [00:00<?, ?it/s]"
      ]
     },
     "metadata": {},
     "output_type": "display_data"
    },
    {
     "name": "stdout",
     "output_type": "stream",
     "text": [
      "Avg. throughput (samples/sec), batch_size=32 - 537.4 +/- 2.6\n"
     ]
    },
    {
     "data": {
      "application/vnd.jupyter.widget-view+json": {
       "model_id": "a65148d1257248d5ab06927e197dd95c",
       "version_major": 2,
       "version_minor": 0
      },
      "text/plain": [
       "Warmup (batch_size=64):   0%|          | 0/40 [00:00<?, ?it/s]"
      ]
     },
     "metadata": {},
     "output_type": "display_data"
    },
    {
     "data": {
      "application/vnd.jupyter.widget-view+json": {
       "model_id": "268ac87eaa824cf3879e60c35da70b58",
       "version_major": 2,
       "version_minor": 0
      },
      "text/plain": [
       "Timed Run (batch_size=64):   0%|          | 0/100 [00:00<?, ?it/s]"
      ]
     },
     "metadata": {},
     "output_type": "display_data"
    },
    {
     "name": "stdout",
     "output_type": "stream",
     "text": [
      "Avg. throughput (samples/sec), batch_size=64 - 573.7 +/- 3.9\n"
     ]
    },
    {
     "data": {
      "application/vnd.jupyter.widget-view+json": {
       "model_id": "1e18bc4a85084e9484249df0c7a3bc24",
       "version_major": 2,
       "version_minor": 0
      },
      "text/plain": [
       "Warmup (batch_size=128):   0%|          | 0/40 [00:00<?, ?it/s]"
      ]
     },
     "metadata": {},
     "output_type": "display_data"
    },
    {
     "data": {
      "application/vnd.jupyter.widget-view+json": {
       "model_id": "f3fcba39b7654733944273f634763d8c",
       "version_major": 2,
       "version_minor": 0
      },
      "text/plain": [
       "Timed Run (batch_size=128):   0%|          | 0/100 [00:00<?, ?it/s]"
      ]
     },
     "metadata": {},
     "output_type": "display_data"
    },
    {
     "name": "stdout",
     "output_type": "stream",
     "text": [
      "Avg. throughput (samples/sec), batch_size=128 - 582.7 +/- 8.9\n"
     ]
    },
    {
     "data": {
      "application/vnd.jupyter.widget-view+json": {
       "model_id": "2200520c6f4a401785c8b3b0b957b403",
       "version_major": 2,
       "version_minor": 0
      },
      "text/plain": [
       "Warmup (batch_size=256):   0%|          | 0/40 [00:00<?, ?it/s]"
      ]
     },
     "metadata": {},
     "output_type": "display_data"
    },
    {
     "data": {
      "application/vnd.jupyter.widget-view+json": {
       "model_id": "096726c7d7e84b8698493413e4f2087c",
       "version_major": 2,
       "version_minor": 0
      },
      "text/plain": [
       "Timed Run (batch_size=256):   0%|          | 0/100 [00:00<?, ?it/s]"
      ]
     },
     "metadata": {},
     "output_type": "display_data"
    },
    {
     "name": "stdout",
     "output_type": "stream",
     "text": [
      "Avg. throughput (samples/sec), batch_size=256 - 556.3 +/- 1.1\n"
     ]
    },
    {
     "data": {
      "application/vnd.jupyter.widget-view+json": {
       "model_id": "b2e9a07b250f46e69025177c5117ba39",
       "version_major": 2,
       "version_minor": 0
      },
      "text/plain": [
       "Warmup (batch_size=512):   0%|          | 0/40 [00:00<?, ?it/s]"
      ]
     },
     "metadata": {},
     "output_type": "display_data"
    },
    {
     "data": {
      "application/vnd.jupyter.widget-view+json": {
       "model_id": "dee09df5a5b54f978338d9d7b934cf47",
       "version_major": 2,
       "version_minor": 0
      },
      "text/plain": [
       "Timed Run (batch_size=512):   0%|          | 0/100 [00:00<?, ?it/s]"
      ]
     },
     "metadata": {},
     "output_type": "display_data"
    },
    {
     "name": "stdout",
     "output_type": "stream",
     "text": [
      "Avg. throughput (samples/sec), batch_size=512 - 536.9 +/- 1.0\n",
      "====================================================================================================\n",
      "Model size (MB) - 63.74\n",
      "====================================================================================================\n"
     ]
    }
   ],
   "source": [
    "import intel_extension_for_pytorch as ipex\n",
    "\n",
    "dtype = torch.bfloat16\n",
    "setfit_model = SetFitModel.from_pretrained(model_path)\n",
    "\n",
    "pb = PerformanceBenchmark(\n",
    "    model=setfit_model,\n",
    "    dataset=test_dataset,\n",
    "    optim_type=f\"bge-small (ipex-{str(dtype).split('.')[1]})\",\n",
    "    autocast_dtype=dtype,\n",
    ")\n",
    "perf_metrics.update(pb.run_benchmark())"
   ]
  },
  {
   "cell_type": "markdown",
   "id": "AiPUhOCNWRny",
   "metadata": {
    "id": "AiPUhOCNWRny"
   },
   "source": [
    "## 3. Optimize with 🤗 Optimum Intel"
   ]
  },
  {
   "cell_type": "markdown",
   "id": "0e60d191-db3b-49a3-a281-34ae9063cb25",
   "metadata": {},
   "source": [
    "In order to optimize our SetFit model, we will apply quantization to the model body, using Intel [Neural Compressor](https://www.intel.com/content/www/us/en/developer/tools/oneapi/neural-compressor.html) (INC), part of Optimum Intel.\n",
    "\n",
    "**Quantization** is a very popular deep learning model optimization technique for improving inference speeds. It minimizes the number of bits required to represent the weights and/or activations in a neural network. This is done by converting a set of real-valued numbers into their lower-bit data representations, such as INT8. Moreover, quantization can enable faster computations in lower precision.\n",
    "\n",
    "Specifically, we'll apply post-training static quantization (PTQ). PTQ can reduce the memory footprint and latency for inference, while still preserving the accuracy of the model, with only a small unlabeled calibration set and without any training."
   ]
  },
  {
   "cell_type": "markdown",
   "id": "6e0557f9-8193-4059-8056-bfc50c00deef",
   "metadata": {},
   "source": [
    "#### Prepare a Calibration Dataset\n",
    "\n",
    "The calibration dataset should be able to represent the data distribution of unseen data. In general, preparing 100 samples is enough for calibration. We'll use the `rotten_tomatoes` dataset in our case, since it’s composed of movie reviews, like our target dataset, sst2. First, we’ll load 100 random samples from this dataset."
   ]
  },
  {
   "cell_type": "code",
   "execution_count": 9,
   "id": "14b2ae65-fc24-4ce2-9125-2100e78ed18b",
   "metadata": {},
   "outputs": [
    {
     "data": {
      "text/plain": [
       "['. . . plays like somebody spliced random moments of a chris rock routine into what is otherwise a cliche-riddled but self-serious spy thriller .',\n",
       " \"michael moore has perfected the art of highly entertaining , self-aggrandizing , politically motivated documentary-making , and he's got as potent a topic as ever here .\"]"
      ]
     },
     "execution_count": 9,
     "metadata": {},
     "output_type": "execute_result"
    }
   ],
   "source": [
    "calibration_set = load_dataset(\"rotten_tomatoes\")[\"train\"].shuffle(seed=42).select(range(100))  \n",
    "calibration_set[\"text\"][:2]"
   ]
  },
  {
   "cell_type": "markdown",
   "id": "f471a9fb-52f0-4b79-9126-73d9de2b280f",
   "metadata": {},
   "source": [
    "To prepare the dataset for quantization, we'll need to tokenize each example. We won’t need the “text” and “label” columns, so let’s remove them."
   ]
  },
  {
   "cell_type": "code",
   "execution_count": 10,
   "id": "06480d69-f706-4eb6-90dd-e9bb0001625b",
   "metadata": {},
   "outputs": [],
   "source": [
    "def tokenize(examples):\n",
    "    return tokenizer(examples[\"text\"], padding=\"max_length\", max_length=tokenizer.model_max_length, truncation=True)\n",
    "\n",
    "setfit_model = SetFitModel.from_pretrained(model_path)\n",
    "tokenizer = setfit_model.model_body.tokenizer\n",
    "calibration_set = calibration_set.map(tokenize, num_proc=10).remove_columns([\"text\", \"label\"])"
   ]
  },
  {
   "cell_type": "markdown",
   "id": "4b90c6ba-8f6e-4899-b404-ecebc0f7a78a",
   "metadata": {},
   "source": [
    "#### Run Quantization\n",
    "Now we define the desired quantization process - in our case - Static Post Training Quantization, and use `optimum.intel` to run the quantization on our calibration dataset:"
   ]
  },
  {
   "cell_type": "code",
   "execution_count": 11,
   "id": "d38c5008-77a0-4985-bb99-7108d57af5d2",
   "metadata": {},
   "outputs": [
    {
     "name": "stderr",
     "output_type": "stream",
     "text": [
      "ONNX export is no supported for model with quantized embeddings\n",
      "2024-03-28 04:07:29 [INFO] Start auto tuning.\n",
      "2024-03-28 04:07:29 [INFO] Execute the tuning process due to detect the evaluation function.\n",
      "2024-03-28 04:07:29 [INFO] Adaptor has 5 recipes.\n",
      "2024-03-28 04:07:29 [INFO] 0 recipes specified by user.\n",
      "2024-03-28 04:07:29 [INFO] 3 recipes require future tuning.\n",
      "2024-03-28 04:07:29 [WARNING] Fail to remove /home/sdp/dkorat/setfit/notebooks/nc_workspace/2024-03-28_04-07-26/ipex_config_tmp.json.\n",
      "2024-03-28 04:07:29 [INFO] *** Initialize auto tuning\n",
      "2024-03-28 04:07:29 [INFO] {\n",
      "2024-03-28 04:07:29 [INFO]     'PostTrainingQuantConfig': {\n",
      "2024-03-28 04:07:29 [INFO]         'AccuracyCriterion': {\n",
      "2024-03-28 04:07:29 [INFO]             'criterion': 'relative',\n",
      "2024-03-28 04:07:29 [INFO]             'higher_is_better': True,\n",
      "2024-03-28 04:07:29 [INFO]             'tolerable_loss': 0.01,\n",
      "2024-03-28 04:07:29 [INFO]             'absolute': None,\n",
      "2024-03-28 04:07:29 [INFO]             'keys': <bound method AccuracyCriterion.keys of <neural_compressor.config.AccuracyCriterion object at 0x7f2ef9a26080>>,\n",
      "2024-03-28 04:07:29 [INFO]             'relative': 0.01\n",
      "2024-03-28 04:07:29 [INFO]         },\n",
      "2024-03-28 04:07:29 [INFO]         'approach': 'post_training_static_quant',\n",
      "2024-03-28 04:07:29 [INFO]         'backend': 'ipex',\n",
      "2024-03-28 04:07:29 [INFO]         'calibration_sampling_size': [\n",
      "2024-03-28 04:07:29 [INFO]             100\n",
      "2024-03-28 04:07:29 [INFO]         ],\n",
      "2024-03-28 04:07:29 [INFO]         'device': 'cpu',\n",
      "2024-03-28 04:07:29 [INFO]         'diagnosis': False,\n",
      "2024-03-28 04:07:29 [INFO]         'domain': 'nlp',\n",
      "2024-03-28 04:07:29 [INFO]         'example_inputs': 'Not printed here due to large size tensors...',\n",
      "2024-03-28 04:07:29 [INFO]         'excluded_precisions': [\n",
      "2024-03-28 04:07:29 [INFO]         ],\n",
      "2024-03-28 04:07:29 [INFO]         'framework': 'pytorch_ipex',\n",
      "2024-03-28 04:07:29 [INFO]         'inputs': [\n",
      "2024-03-28 04:07:29 [INFO]         ],\n",
      "2024-03-28 04:07:29 [INFO]         'model_name': '',\n",
      "2024-03-28 04:07:29 [INFO]         'ni_workload_name': 'quantization',\n",
      "2024-03-28 04:07:29 [INFO]         'op_name_dict': None,\n",
      "2024-03-28 04:07:29 [INFO]         'op_type_dict': None,\n",
      "2024-03-28 04:07:29 [INFO]         'outputs': [\n",
      "2024-03-28 04:07:29 [INFO]         ],\n",
      "2024-03-28 04:07:29 [INFO]         'quant_format': 'default',\n",
      "2024-03-28 04:07:29 [INFO]         'quant_level': 'auto',\n",
      "2024-03-28 04:07:29 [INFO]         'recipes': {\n",
      "2024-03-28 04:07:29 [INFO]             'smooth_quant': False,\n",
      "2024-03-28 04:07:29 [INFO]             'smooth_quant_args': {\n",
      "2024-03-28 04:07:29 [INFO]             },\n",
      "2024-03-28 04:07:29 [INFO]             'layer_wise_quant': False,\n",
      "2024-03-28 04:07:29 [INFO]             'layer_wise_quant_args': {\n",
      "2024-03-28 04:07:29 [INFO]             },\n",
      "2024-03-28 04:07:29 [INFO]             'fast_bias_correction': False,\n",
      "2024-03-28 04:07:29 [INFO]             'weight_correction': False,\n",
      "2024-03-28 04:07:29 [INFO]             'gemm_to_matmul': True,\n",
      "2024-03-28 04:07:29 [INFO]             'graph_optimization_level': None,\n",
      "2024-03-28 04:07:29 [INFO]             'first_conv_or_matmul_quantization': True,\n",
      "2024-03-28 04:07:29 [INFO]             'last_conv_or_matmul_quantization': True,\n",
      "2024-03-28 04:07:29 [INFO]             'pre_post_process_quantization': True,\n",
      "2024-03-28 04:07:29 [INFO]             'add_qdq_pair_to_weight': False,\n",
      "2024-03-28 04:07:29 [INFO]             'optypes_to_exclude_output_quant': [\n",
      "2024-03-28 04:07:29 [INFO]             ],\n",
      "2024-03-28 04:07:29 [INFO]             'dedicated_qdq_pair': False,\n",
      "2024-03-28 04:07:29 [INFO]             'rtn_args': {\n",
      "2024-03-28 04:07:29 [INFO]             },\n",
      "2024-03-28 04:07:29 [INFO]             'awq_args': {\n",
      "2024-03-28 04:07:29 [INFO]             },\n",
      "2024-03-28 04:07:29 [INFO]             'gptq_args': {\n",
      "2024-03-28 04:07:29 [INFO]             },\n",
      "2024-03-28 04:07:29 [INFO]             'teq_args': {\n",
      "2024-03-28 04:07:29 [INFO]             }\n",
      "2024-03-28 04:07:29 [INFO]         },\n",
      "2024-03-28 04:07:29 [INFO]         'reduce_range': None,\n",
      "2024-03-28 04:07:29 [INFO]         'TuningCriterion': {\n",
      "2024-03-28 04:07:29 [INFO]             'max_trials': 100,\n",
      "2024-03-28 04:07:29 [INFO]             'objective': [\n",
      "2024-03-28 04:07:29 [INFO]                 'performance'\n",
      "2024-03-28 04:07:29 [INFO]             ],\n",
      "2024-03-28 04:07:29 [INFO]             'strategy': 'basic',\n",
      "2024-03-28 04:07:29 [INFO]             'strategy_kwargs': None,\n",
      "2024-03-28 04:07:29 [INFO]             'timeout': 0\n",
      "2024-03-28 04:07:29 [INFO]         },\n",
      "2024-03-28 04:07:29 [INFO]         'use_bf16': True\n",
      "2024-03-28 04:07:29 [INFO]     }\n",
      "2024-03-28 04:07:29 [INFO] }\n",
      "2024-03-28 04:07:29 [WARNING] [Strategy] Please install `mpi4py` correctly if using distributed tuning; otherwise, ignore this warning.\n",
      "2024-03-28 04:07:29 [INFO]  Found 12 blocks\n",
      "2024-03-28 04:07:29 [INFO] Attention Blocks: 12\n",
      "2024-03-28 04:07:29 [INFO] FFN Blocks: 12\n",
      "2024-03-28 04:07:29 [INFO] Attention Blocks : \n",
      "2024-03-28 04:07:29 [INFO] [['encoder.layer.0.attention.self.query', 'encoder.layer.0.attention.self.key', 'encoder.layer.0.attention.self.value', 'encoder.layer.0.attention.output.dense'], ['encoder.layer.1.attention.self.query', 'encoder.layer.1.attention.self.key', 'encoder.layer.1.attention.self.value', 'encoder.layer.1.attention.output.dense'], ['encoder.layer.2.attention.self.query', 'encoder.layer.2.attention.self.key', 'encoder.layer.2.attention.self.value', 'encoder.layer.2.attention.output.dense'], ['encoder.layer.3.attention.self.query', 'encoder.layer.3.attention.self.key', 'encoder.layer.3.attention.self.value', 'encoder.layer.3.attention.output.dense'], ['encoder.layer.4.attention.self.query', 'encoder.layer.4.attention.self.key', 'encoder.layer.4.attention.self.value', 'encoder.layer.4.attention.output.dense'], ['encoder.layer.5.attention.self.query', 'encoder.layer.5.attention.self.key', 'encoder.layer.5.attention.self.value', 'encoder.layer.5.attention.output.dense'], ['encoder.layer.6.attention.self.query', 'encoder.layer.6.attention.self.key', 'encoder.layer.6.attention.self.value', 'encoder.layer.6.attention.output.dense'], ['encoder.layer.7.attention.self.query', 'encoder.layer.7.attention.self.key', 'encoder.layer.7.attention.self.value', 'encoder.layer.7.attention.output.dense'], ['encoder.layer.8.attention.self.query', 'encoder.layer.8.attention.self.key', 'encoder.layer.8.attention.self.value', 'encoder.layer.8.attention.output.dense'], ['encoder.layer.9.attention.self.query', 'encoder.layer.9.attention.self.key', 'encoder.layer.9.attention.self.value', 'encoder.layer.9.attention.output.dense'], ['encoder.layer.10.attention.self.query', 'encoder.layer.10.attention.self.key', 'encoder.layer.10.attention.self.value', 'encoder.layer.10.attention.output.dense'], ['encoder.layer.11.attention.self.query', 'encoder.layer.11.attention.self.key', 'encoder.layer.11.attention.self.value', 'encoder.layer.11.attention.output.dense']]\n",
      "2024-03-28 04:07:29 [INFO] FFN Blocks : \n",
      "2024-03-28 04:07:29 [INFO] [['encoder.layer.0.intermediate.dense', 'encoder.layer.0.output.dense'], ['encoder.layer.1.intermediate.dense', 'encoder.layer.1.output.dense'], ['encoder.layer.2.intermediate.dense', 'encoder.layer.2.output.dense'], ['encoder.layer.3.intermediate.dense', 'encoder.layer.3.output.dense'], ['encoder.layer.4.intermediate.dense', 'encoder.layer.4.output.dense'], ['encoder.layer.5.intermediate.dense', 'encoder.layer.5.output.dense'], ['encoder.layer.6.intermediate.dense', 'encoder.layer.6.output.dense'], ['encoder.layer.7.intermediate.dense', 'encoder.layer.7.output.dense'], ['encoder.layer.8.intermediate.dense', 'encoder.layer.8.output.dense'], ['encoder.layer.9.intermediate.dense', 'encoder.layer.9.output.dense'], ['encoder.layer.10.intermediate.dense', 'encoder.layer.10.output.dense'], ['encoder.layer.11.intermediate.dense', 'encoder.layer.11.output.dense']]\n",
      "2024-03-28 04:07:29 [INFO] Pass query framework capability elapsed time: 406.4 ms\n",
      "2024-03-28 04:07:29 [INFO] Get FP32 model baseline.\n",
      "2024-03-28 04:07:29 [INFO] Save tuning history to /home/sdp/dkorat/setfit/notebooks/nc_workspace/2024-03-28_04-07-26/./history.snapshot.\n",
      "2024-03-28 04:07:29 [INFO] FP32 baseline is: [Accuracy: 1.0000, Duration (seconds): 0.0000]\n",
      "2024-03-28 04:07:29 [INFO] Quantize the model with default config.\n",
      "2024-03-28 04:07:38 [INFO] |******Mixed Precision Statistics******|\n",
      "2024-03-28 04:07:38 [INFO] +---------------+-----------+----------+\n",
      "2024-03-28 04:07:38 [INFO] |    Op Type    |   Total   |   INT8   |\n",
      "2024-03-28 04:07:38 [INFO] +---------------+-----------+----------+\n",
      "2024-03-28 04:07:38 [INFO] |     matmul    |     24    |    24    |\n",
      "2024-03-28 04:07:38 [INFO] |     Linear    |     25    |    25    |\n",
      "2024-03-28 04:07:38 [INFO] +---------------+-----------+----------+\n",
      "2024-03-28 04:07:38 [INFO] Pass quantize model elapsed time: 8978.15 ms\n",
      "2024-03-28 04:07:38 [INFO] Tune 1 result is: [Accuracy (int8|fp32): 1.0000|1.0000, Duration (seconds) (int8|fp32): 0.0000|0.0000], Best tune result is: [Accuracy: 1.0000, Duration (seconds): 0.0000]\n",
      "2024-03-28 04:07:38 [INFO] |**********************Tune Result Statistics**********************|\n",
      "2024-03-28 04:07:38 [INFO] +--------------------+----------+---------------+------------------+\n",
      "2024-03-28 04:07:38 [INFO] |     Info Type      | Baseline | Tune 1 result | Best tune result |\n",
      "2024-03-28 04:07:38 [INFO] +--------------------+----------+---------------+------------------+\n",
      "2024-03-28 04:07:38 [INFO] |      Accuracy      | 1.0000   |    1.0000     |     1.0000       |\n",
      "2024-03-28 04:07:38 [INFO] | Duration (seconds) | 0.0000   |    0.0000     |     0.0000       |\n",
      "2024-03-28 04:07:38 [INFO] +--------------------+----------+---------------+------------------+\n",
      "2024-03-28 04:07:38 [INFO] [Strategy] Found a model that meets the accuracy requirements.\n",
      "2024-03-28 04:07:38 [INFO] Save tuning history to /home/sdp/dkorat/setfit/notebooks/nc_workspace/2024-03-28_04-07-26/./history.snapshot.\n",
      "2024-03-28 04:07:38 [INFO] [Strategy] Found the model meets accuracy requirements, ending the tuning process.\n",
      "2024-03-28 04:07:38 [INFO] Specified timeout or max trials is reached! Found a quantized model which meet accuracy goal. Exit.\n",
      "2024-03-28 04:07:38 [INFO] Save deploy yaml to /home/sdp/dkorat/setfit/notebooks/nc_workspace/2024-03-28_04-07-26/deploy.yaml\n",
      "Model weights saved to /tmp/bge-small-en-v1.5_setfit-sst2-english_opt/pytorch_model.bin\n",
      "Configuration saved in /tmp/bge-small-en-v1.5_setfit-sst2-english_opt/inc_config.json\n"
     ]
    }
   ],
   "source": [
    "from optimum.intel import INCQuantizer\n",
    "from neural_compressor.config import PostTrainingQuantConfig\n",
    "\n",
    "setfit_body = setfit_model.model_body[0].auto_model\n",
    "quantizer = INCQuantizer.from_pretrained(setfit_body)\n",
    "optimum_model_path = \"/tmp/bge-small-en-v1.5_setfit-sst2-english_opt\"\n",
    "quantization_config = PostTrainingQuantConfig(approach=\"static\", backend=\"ipex\", domain=\"nlp\")\n",
    "quantizer.quantize(\n",
    "    quantization_config=quantization_config,\n",
    "    calibration_dataset=calibration_set,\n",
    "    save_directory=optimum_model_path,\n",
    "    batch_size=1,\n",
    ")\n",
    "tokenizer.save_pretrained(optimum_model_path);"
   ]
  },
  {
   "cell_type": "markdown",
   "id": "f1e8d9eb-354c-4d0f-8b68-d1cb3417dd29",
   "metadata": {},
   "source": [
    "#### Benchmark Optimum Model"
   ]
  },
  {
   "cell_type": "markdown",
   "id": "424628ae-091b-47bd-952f-96e1d6e7a1b2",
   "metadata": {},
   "source": [
    "This next class defines a wrapper around our SetFit model which plugs in our quantized model at inference (instead of the original model body)."
   ]
  },
  {
   "cell_type": "code",
   "execution_count": 12,
   "id": "cf891fe1-03d4-44ce-a77e-9e86a9399f75",
   "metadata": {},
   "outputs": [],
   "source": [
    "class OptimumSetFitModel:\n",
    "    def __init__(self, setfit_model, model_body):\n",
    "        model_body.tokenizer = setfit_model.model_body.tokenizer\n",
    "        self.model_body = model_body\n",
    "        self.model_head = setfit_model.model_head"
   ]
  },
  {
   "cell_type": "markdown",
   "id": "72e7215f",
   "metadata": {},
   "source": [
    "Time to run the performance benchmark on our optimized SetFit model!"
   ]
  },
  {
   "cell_type": "code",
   "execution_count": 13,
   "id": "4941e895-72e2-43e6-a3f4-9af39a5f0315",
   "metadata": {},
   "outputs": [
    {
     "name": "stderr",
     "output_type": "stream",
     "text": [
      "Passing the argument `library_name` to `get_supported_tasks_for_model_type` is required, but got library_name=None. Defaulting to `transformers`. An error will be raised in a future version of Optimum if `library_name` is not provided.\n"
     ]
    },
    {
     "name": "stdout",
     "output_type": "stream",
     "text": [
      "\n",
      "\n",
      "******************************************************************************************************************************************************\n",
      "Optimization type: bge-small (optimum-int8)\n",
      "******************************************************************************************************************************************************\n",
      "Accuracy on test set - 0.881\n",
      "====================================================================================================\n"
     ]
    },
    {
     "data": {
      "application/vnd.jupyter.widget-view+json": {
       "model_id": "0202ef5c0a024ef7825a988e4517d9d1",
       "version_major": 2,
       "version_minor": 0
      },
      "text/plain": [
       "Warmup (batch_size=1):   0%|          | 0/40 [00:00<?, ?it/s]"
      ]
     },
     "metadata": {},
     "output_type": "display_data"
    },
    {
     "data": {
      "application/vnd.jupyter.widget-view+json": {
       "model_id": "1c512578457f47199620a48edd5f0bc3",
       "version_major": 2,
       "version_minor": 0
      },
      "text/plain": [
       "Timed Run (batch_size=1):   0%|          | 0/100 [00:00<?, ?it/s]"
      ]
     },
     "metadata": {},
     "output_type": "display_data"
    },
    {
     "name": "stdout",
     "output_type": "stream",
     "text": [
      "Avg. latency (ms), batch_size=1 - 4.55 +/- 0.25\n",
      "Avg. throughput (samples/sec), batch_size=1 - 220.2 +/- 9.4\n"
     ]
    },
    {
     "data": {
      "application/vnd.jupyter.widget-view+json": {
       "model_id": "5178bbc2b023465e9ac8ecc1dc1cc186",
       "version_major": 2,
       "version_minor": 0
      },
      "text/plain": [
       "Warmup (batch_size=2):   0%|          | 0/40 [00:00<?, ?it/s]"
      ]
     },
     "metadata": {},
     "output_type": "display_data"
    },
    {
     "data": {
      "application/vnd.jupyter.widget-view+json": {
       "model_id": "14e60d4b43ef4e2f999fff535c08ec79",
       "version_major": 2,
       "version_minor": 0
      },
      "text/plain": [
       "Timed Run (batch_size=2):   0%|          | 0/100 [00:00<?, ?it/s]"
      ]
     },
     "metadata": {},
     "output_type": "display_data"
    },
    {
     "name": "stdout",
     "output_type": "stream",
     "text": [
      "Avg. throughput (samples/sec), batch_size=2 - 254.3 +/- 9.4\n"
     ]
    },
    {
     "data": {
      "application/vnd.jupyter.widget-view+json": {
       "model_id": "01ebec0131664f27a79fc79a1bb6dec5",
       "version_major": 2,
       "version_minor": 0
      },
      "text/plain": [
       "Warmup (batch_size=4):   0%|          | 0/40 [00:00<?, ?it/s]"
      ]
     },
     "metadata": {},
     "output_type": "display_data"
    },
    {
     "data": {
      "application/vnd.jupyter.widget-view+json": {
       "model_id": "2306a27ceb484a6eb357a1e03205fdec",
       "version_major": 2,
       "version_minor": 0
      },
      "text/plain": [
       "Timed Run (batch_size=4):   0%|          | 0/100 [00:00<?, ?it/s]"
      ]
     },
     "metadata": {},
     "output_type": "display_data"
    },
    {
     "name": "stdout",
     "output_type": "stream",
     "text": [
      "Avg. throughput (samples/sec), batch_size=4 - 384.8 +/- 9.0\n"
     ]
    },
    {
     "data": {
      "application/vnd.jupyter.widget-view+json": {
       "model_id": "346210aa843f4eb795759a9dc555f731",
       "version_major": 2,
       "version_minor": 0
      },
      "text/plain": [
       "Warmup (batch_size=8):   0%|          | 0/40 [00:00<?, ?it/s]"
      ]
     },
     "metadata": {},
     "output_type": "display_data"
    },
    {
     "data": {
      "application/vnd.jupyter.widget-view+json": {
       "model_id": "bf9a5625454f46669f7628c026380f49",
       "version_major": 2,
       "version_minor": 0
      },
      "text/plain": [
       "Timed Run (batch_size=8):   0%|          | 0/100 [00:00<?, ?it/s]"
      ]
     },
     "metadata": {},
     "output_type": "display_data"
    },
    {
     "name": "stdout",
     "output_type": "stream",
     "text": [
      "Avg. throughput (samples/sec), batch_size=8 - 536.3 +/- 9.5\n"
     ]
    },
    {
     "data": {
      "application/vnd.jupyter.widget-view+json": {
       "model_id": "1fc1686607bb4ce8a3d6a475905aac62",
       "version_major": 2,
       "version_minor": 0
      },
      "text/plain": [
       "Warmup (batch_size=16):   0%|          | 0/40 [00:00<?, ?it/s]"
      ]
     },
     "metadata": {},
     "output_type": "display_data"
    },
    {
     "data": {
      "application/vnd.jupyter.widget-view+json": {
       "model_id": "4c26da7184d84fbdacfb1d1c6a7f0016",
       "version_major": 2,
       "version_minor": 0
      },
      "text/plain": [
       "Timed Run (batch_size=16):   0%|          | 0/100 [00:00<?, ?it/s]"
      ]
     },
     "metadata": {},
     "output_type": "display_data"
    },
    {
     "name": "stdout",
     "output_type": "stream",
     "text": [
      "Avg. throughput (samples/sec), batch_size=16 - 646.3 +/- 13.8\n"
     ]
    },
    {
     "data": {
      "application/vnd.jupyter.widget-view+json": {
       "model_id": "841cb888cf2d44d8942686c0e6733af4",
       "version_major": 2,
       "version_minor": 0
      },
      "text/plain": [
       "Warmup (batch_size=32):   0%|          | 0/40 [00:00<?, ?it/s]"
      ]
     },
     "metadata": {},
     "output_type": "display_data"
    },
    {
     "data": {
      "application/vnd.jupyter.widget-view+json": {
       "model_id": "d5c26ebfd5ad4a5082832775c2320846",
       "version_major": 2,
       "version_minor": 0
      },
      "text/plain": [
       "Timed Run (batch_size=32):   0%|          | 0/100 [00:00<?, ?it/s]"
      ]
     },
     "metadata": {},
     "output_type": "display_data"
    },
    {
     "name": "stdout",
     "output_type": "stream",
     "text": [
      "Avg. throughput (samples/sec), batch_size=32 - 790.2 +/- 7.9\n"
     ]
    },
    {
     "data": {
      "application/vnd.jupyter.widget-view+json": {
       "model_id": "a29d0415cfa64e0281f15ce50f3f9b2e",
       "version_major": 2,
       "version_minor": 0
      },
      "text/plain": [
       "Warmup (batch_size=64):   0%|          | 0/40 [00:00<?, ?it/s]"
      ]
     },
     "metadata": {},
     "output_type": "display_data"
    },
    {
     "data": {
      "application/vnd.jupyter.widget-view+json": {
       "model_id": "b07cb21638d44bc7820c9ac4b0ff55ca",
       "version_major": 2,
       "version_minor": 0
      },
      "text/plain": [
       "Timed Run (batch_size=64):   0%|          | 0/100 [00:00<?, ?it/s]"
      ]
     },
     "metadata": {},
     "output_type": "display_data"
    },
    {
     "name": "stdout",
     "output_type": "stream",
     "text": [
      "Avg. throughput (samples/sec), batch_size=64 - 896.2 +/- 9.1\n"
     ]
    },
    {
     "data": {
      "application/vnd.jupyter.widget-view+json": {
       "model_id": "c412bb3ec3904c57bdd50ba2fc1c7407",
       "version_major": 2,
       "version_minor": 0
      },
      "text/plain": [
       "Warmup (batch_size=128):   0%|          | 0/40 [00:00<?, ?it/s]"
      ]
     },
     "metadata": {},
     "output_type": "display_data"
    },
    {
     "data": {
      "application/vnd.jupyter.widget-view+json": {
       "model_id": "d89726879ff24880a0d1235bb16e9b68",
       "version_major": 2,
       "version_minor": 0
      },
      "text/plain": [
       "Timed Run (batch_size=128):   0%|          | 0/100 [00:00<?, ?it/s]"
      ]
     },
     "metadata": {},
     "output_type": "display_data"
    },
    {
     "name": "stdout",
     "output_type": "stream",
     "text": [
      "Avg. throughput (samples/sec), batch_size=128 - 935.2 +/- 3.5\n"
     ]
    },
    {
     "data": {
      "application/vnd.jupyter.widget-view+json": {
       "model_id": "6ffce123197b4dcc93224e10329825f9",
       "version_major": 2,
       "version_minor": 0
      },
      "text/plain": [
       "Warmup (batch_size=256):   0%|          | 0/40 [00:00<?, ?it/s]"
      ]
     },
     "metadata": {},
     "output_type": "display_data"
    },
    {
     "data": {
      "application/vnd.jupyter.widget-view+json": {
       "model_id": "3467fa5ce9314ccd97fc9f09fe22c519",
       "version_major": 2,
       "version_minor": 0
      },
      "text/plain": [
       "Timed Run (batch_size=256):   0%|          | 0/100 [00:00<?, ?it/s]"
      ]
     },
     "metadata": {},
     "output_type": "display_data"
    },
    {
     "name": "stdout",
     "output_type": "stream",
     "text": [
      "Avg. throughput (samples/sec), batch_size=256 - 923.4 +/- 10.8\n"
     ]
    },
    {
     "data": {
      "application/vnd.jupyter.widget-view+json": {
       "model_id": "13dac04952ac4e089309711fbfd85bf9",
       "version_major": 2,
       "version_minor": 0
      },
      "text/plain": [
       "Warmup (batch_size=512):   0%|          | 0/40 [00:00<?, ?it/s]"
      ]
     },
     "metadata": {},
     "output_type": "display_data"
    },
    {
     "data": {
      "application/vnd.jupyter.widget-view+json": {
       "model_id": "f836a2679b9044799b36427686e440e4",
       "version_major": 2,
       "version_minor": 0
      },
      "text/plain": [
       "Timed Run (batch_size=512):   0%|          | 0/100 [00:00<?, ?it/s]"
      ]
     },
     "metadata": {},
     "output_type": "display_data"
    },
    {
     "name": "stdout",
     "output_type": "stream",
     "text": [
      "Avg. throughput (samples/sec), batch_size=512 - 857.1 +/- 2.2\n",
      "====================================================================================================\n",
      "Model size (MB) - 44.65\n",
      "====================================================================================================\n"
     ]
    }
   ],
   "source": [
    "from optimum.intel import IPEXModel\n",
    "\n",
    "optimum_model = IPEXModel.from_pretrained(optimum_model_path)\n",
    "optimum_setfit_model = OptimumSetFitModel(setfit_model, model_body=optimum_model)\n",
    "\n",
    "pb = PerformanceBenchmark(\n",
    "    model=optimum_setfit_model,\n",
    "    dataset=test_dataset,\n",
    "    optim_type=f\"bge-small (optimum-int8)\",\n",
    "    model_path=optimum_model_path,\n",
    "    autocast_dtype=torch.bfloat16,\n",
    ")\n",
    "perf_metrics.update(pb.run_benchmark())"
   ]
  },
  {
   "cell_type": "markdown",
   "id": "da6b2998-6605-4e42-9fb5-247c5eee750f",
   "metadata": {},
   "source": [
    "#### Plot Latencies and Compute Latency Speedup"
   ]
  },
  {
   "cell_type": "code",
   "execution_count": 11,
   "id": "O8jpZ3gdWRn9",
   "metadata": {
    "colab": {
     "base_uri": "https://localhost:8080/"
    },
    "id": "O8jpZ3gdWRn9",
    "outputId": "8d31c81a-67e4-4074-cf35-9f56d6dcdd20"
   },
   "outputs": [
    {
     "data": {
      "image/png": "[encoded data removed]",
      "text/plain": [
       "<Figure size 720x480 with 1 Axes>"
      ]
     },
     "metadata": {},
     "output_type": "display_data"
    },
    {
     "name": "stdout",
     "output_type": "stream",
     "text": [
      "Latency speedup for 'bge-small (optimum-int8) vs bge-small (transformers)': 3.4x\n"
     ]
    }
   ],
   "source": [
    "plot_metrics(perf_metrics)\n",
    "speedup = perf_metrics['bge-small (transformers)']['time_avg_ms'] / perf_metrics['bge-small (optimum-int8)']['time_avg_ms']\n",
    "print(f\"Latency speedup for 'bge-small (optimum-int8) vs bge-small (transformers)': {speedup:.1f}x\")"
   ]
  },
  {
   "cell_type": "markdown",
   "id": "48568c7b",
   "metadata": {
    "jp-MarkdownHeadingCollapsed": true
   },
   "source": [
    "#### After optimizing, inference with batch size 1 is 3.4x faster than before, with minimal drop in accuracy!"
   ]
  },
  {
   "cell_type": "markdown",
   "id": "abd6872f-1765-48a5-beba-a989555b5461",
   "metadata": {},
   "source": [
    "#### Throughput Speedup"
   ]
  },
  {
   "cell_type": "markdown",
   "id": "9e043497-89c0-44a7-b08f-1f8012cd9fba",
   "metadata": {},
   "source": [
    "Let's look now at the throughput, which is the number of samples the model can predict per second.\\\n",
    "We'll plot this value for our optimized and baseline models, as a function of the batch size."
   ]
  },
  {
   "cell_type": "code",
   "execution_count": 17,
   "id": "c701770a-d643-4f32-bd56-2574ba7dc691",
   "metadata": {},
   "outputs": [
    {
     "data": {
      "image/png": "[encoded data removed]",
      "text/plain": [
       "<Figure size 1200x720 with 1 Axes>"
      ]
     },
     "metadata": {},
     "output_type": "display_data"
    }
   ],
   "source": [
    "import numpy as np\n",
    "\n",
    "def plot_throughputs(perf_metrics):\n",
    "    plt.figure(figsize=(10, 6), dpi=120)\n",
    "    maximums = []\n",
    "    for i, (label, metric) in enumerate(perf_metrics.items()):\n",
    "        xs = np.arange(len(metric[\"batch_sizes\"]))\n",
    "        y_mean, y_std = np.array(metric[\"throughputs_avg\"]), np.array(metric[\"throughputs_std\"])\n",
    "        maximums.append((np.argmax(y_mean), max(y_mean)))\n",
    "        plt.plot(xs, y_mean, label=label, alpha=0.8)\n",
    "        plt.fill_between(xs, y_mean - y_std, y_mean + y_std, alpha=0.2)\n",
    "        for x, y in zip(xs, y_mean):\n",
    "            plt.text(x, y - 40 + 40 * (i % 2), f'{y:.1f}', ha='right', va='bottom', fontsize=7, color=\"black\")\n",
    "\n",
    "    plt.suptitle(\"Throughput vs Batch Size\")\n",
    "    plt.title('\\nBAAI/bge-small-en-v1.5 SetFit model trained on SetFit/sst2', fontsize=8)\n",
    "    plt.ylabel(\"Sentences / Second\")\n",
    "    plt.xlabel(\"Batch Size\")\n",
    "    plt.xticks(xs, pb.batch_sizes[:len(xs)])\n",
    "    plt.legend()\n",
    "    plt.grid(True, linestyle='--', alpha=0.3)\n",
    "    \n",
    "    # Add Speedup Arrow\n",
    "    max_opt_thoughput = max(perf_metrics['bge-small (optimum-int8)']['throughputs_avg'])\n",
    "    max_transformers_thoughput = max(perf_metrics['bge-small (transformers)']['throughputs_avg'])\n",
    "    speedup =  max_opt_thoughput / max_transformers_thoughput\n",
    "    arrow_kwargs = dict(head_width = 0.6, width=0.15, head_length=60, color=\"green\", alpha=0.6)\n",
    "    plt.arrow(7.3, 150, 0, 600, **arrow_kwargs)\n",
    "    plt.text(7.5, 340, 'Throughput\\nSpeedup', color=\"green\", fontsize=14)\n",
    "    plt.text(6.5, 360, f\"{speedup:.1f}x\", color=\"green\", fontsize=14)\n",
    "    \n",
    "    plt.savefig(\"throughput_vs_batch_size.png\")\n",
    "    plt.show()\n",
    "    \n",
    "plot_throughputs(perf_metrics)"
   ]
  },
  {
   "cell_type": "markdown",
   "id": "777c6ab3-0d71-453a-9af3-67f8947fa6ce",
   "metadata": {},
   "source": [
    "#### The throughput is where our optmiziation shines - the optimized model achieves 7.8x speedup in max throughput!"
   ]
  }
 ],
 "metadata": {
  "accelerator": "GPU",
  "colab": {
   "gpuType": "T4",
   "provenance": []
  },
  "kernelspec": {
   "display_name": "setfit",
   "language": "python",
   "name": "setfit"
  },
  "language_info": {
   "codemirror_mode": {
    "name": "ipython",
    "version": 3
   },
   "file_extension": ".py",
   "mimetype": "text/x-python",
   "name": "python",
   "nbconvert_exporter": "python",
   "pygments_lexer": "ipython3",
   "version": "3.10.13"
  }
 },
 "nbformat": 4,
 "nbformat_minor": 5
}
